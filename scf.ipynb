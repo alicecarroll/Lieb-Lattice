{
 "cells": [
  {
   "cell_type": "code",
   "execution_count": 1632,
   "id": "48b05362",
   "metadata": {},
   "outputs": [],
   "source": [
    "import numpy as np\n",
    "import os\n",
    "import matplotlib.pyplot as plt\n",
    "from importlib import reload\n",
    "import AHM\n",
    "reload(AHM)\n",
    "#n=0\n",
    "date = '060825'"
   ]
  },
  {
   "cell_type": "code",
   "execution_count": 1633,
   "id": "11f89d13",
   "metadata": {},
   "outputs": [],
   "source": [
    "k = np.linspace(0, 2*np.pi, 40)"
   ]
  },
  {
   "cell_type": "code",
   "execution_count": 1634,
   "id": "56f74569",
   "metadata": {},
   "outputs": [
    {
     "data": {
      "text/plain": [
       "110"
      ]
     },
     "execution_count": 1634,
     "metadata": {},
     "output_type": "execute_result"
    }
   ],
   "source": [
    "n"
   ]
  },
  {
   "cell_type": "code",
   "execution_count": 1635,
   "id": "48f69f1d",
   "metadata": {},
   "outputs": [
    {
     "name": "stdout",
     "output_type": "stream",
     "text": [
      "0 1\n"
     ]
    },
    {
     "name": "stderr",
     "output_type": "stream",
     "text": [
      "c:\\Users\\atsch\\Desktop\\MasterVorlesungen\\Sommer25\\Lieb-Lattice\\AHM.py:145: ComplexWarning: Casting complex values to real discards the imaginary part\n",
      "  d=0\n"
     ]
    },
    {
     "name": "stdout",
     "output_type": "stream",
     "text": [
      "1 0.0\n",
      "2 0.010047763736267623\n",
      "3 0.010505265438450897\n",
      "4 0.008910988425373403\n",
      "5 0.007556295688848378\n",
      "[[ 0.        +0.00000000e+00j -2.        +0.00000000e+00j\n",
      "   0.        +0.00000000e+00j  0.        +0.00000000e+00j\n",
      "   0.        +0.00000000e+00j  0.        +0.00000000e+00j\n",
      "   0.        +0.00000000e+00j  0.        +0.00000000e+00j\n",
      "   0.        +0.00000000e+00j  2.92127766-2.45232113e-09j\n",
      "   0.        +0.00000000e+00j  0.        +0.00000000e+00j]\n",
      " [-2.        +0.00000000e+00j  0.        +0.00000000e+00j\n",
      "  -2.        +0.00000000e+00j  0.        +0.00000000e+00j\n",
      "   0.        +0.00000000e+00j  0.        +0.00000000e+00j\n",
      "   0.        +0.00000000e+00j  0.        +0.00000000e+00j\n",
      "   0.        +0.00000000e+00j  0.        +0.00000000e+00j\n",
      "   0.        +0.00000000e+00j  0.        +0.00000000e+00j]\n",
      " [ 0.        +0.00000000e+00j -2.        +0.00000000e+00j\n",
      "   0.        +0.00000000e+00j  0.        +0.00000000e+00j\n",
      "   0.        +0.00000000e+00j  0.        +0.00000000e+00j\n",
      "   0.        +0.00000000e+00j  0.        +0.00000000e+00j\n",
      "   0.        +0.00000000e+00j  0.        +0.00000000e+00j\n",
      "   0.        +0.00000000e+00j -2.8341994 +2.75471515e-09j]\n",
      " [ 0.        +0.00000000e+00j  0.        +0.00000000e+00j\n",
      "   0.        +0.00000000e+00j  0.        +0.00000000e+00j\n",
      "  -2.        +0.00000000e+00j  0.        +0.00000000e+00j\n",
      "  -2.92127766+2.45232113e-09j  0.        +0.00000000e+00j\n",
      "   0.        +0.00000000e+00j  0.        +0.00000000e+00j\n",
      "   0.        +0.00000000e+00j  0.        +0.00000000e+00j]\n",
      " [ 0.        +0.00000000e+00j  0.        +0.00000000e+00j\n",
      "   0.        +0.00000000e+00j -2.        +0.00000000e+00j\n",
      "   0.        +0.00000000e+00j -2.        +0.00000000e+00j\n",
      "   0.        +0.00000000e+00j  0.        +0.00000000e+00j\n",
      "   0.        +0.00000000e+00j  0.        +0.00000000e+00j\n",
      "   0.        +0.00000000e+00j  0.        +0.00000000e+00j]\n",
      " [ 0.        +0.00000000e+00j  0.        +0.00000000e+00j\n",
      "   0.        +0.00000000e+00j  0.        +0.00000000e+00j\n",
      "  -2.        +0.00000000e+00j  0.        +0.00000000e+00j\n",
      "   0.        +0.00000000e+00j  0.        +0.00000000e+00j\n",
      "   2.8341994 -2.75471515e-09j  0.        +0.00000000e+00j\n",
      "   0.        +0.00000000e+00j  0.        +0.00000000e+00j]\n",
      " [ 0.        +0.00000000e+00j  0.        +0.00000000e+00j\n",
      "   0.        +0.00000000e+00j -2.92127766-2.45232113e-09j\n",
      "   0.        +0.00000000e+00j  0.        +0.00000000e+00j\n",
      "   0.        +0.00000000e+00j  2.        +0.00000000e+00j\n",
      "   0.        +0.00000000e+00j  0.        +0.00000000e+00j\n",
      "   0.        +0.00000000e+00j  0.        +0.00000000e+00j]\n",
      " [ 0.        +0.00000000e+00j  0.        +0.00000000e+00j\n",
      "   0.        +0.00000000e+00j  0.        +0.00000000e+00j\n",
      "   0.        +0.00000000e+00j  0.        +0.00000000e+00j\n",
      "   2.        +0.00000000e+00j  0.        +0.00000000e+00j\n",
      "   2.        +0.00000000e+00j  0.        +0.00000000e+00j\n",
      "   0.        +0.00000000e+00j  0.        +0.00000000e+00j]\n",
      " [ 0.        +0.00000000e+00j  0.        +0.00000000e+00j\n",
      "   0.        +0.00000000e+00j  0.        +0.00000000e+00j\n",
      "   0.        +0.00000000e+00j  2.8341994 +2.75471515e-09j\n",
      "   0.        +0.00000000e+00j  2.        +0.00000000e+00j\n",
      "   0.        +0.00000000e+00j  0.        +0.00000000e+00j\n",
      "   0.        +0.00000000e+00j  0.        +0.00000000e+00j]\n",
      " [ 2.92127766+2.45232113e-09j  0.        +0.00000000e+00j\n",
      "   0.        +0.00000000e+00j  0.        +0.00000000e+00j\n",
      "   0.        +0.00000000e+00j  0.        +0.00000000e+00j\n",
      "   0.        +0.00000000e+00j  0.        +0.00000000e+00j\n",
      "   0.        +0.00000000e+00j  0.        +0.00000000e+00j\n",
      "   2.        +0.00000000e+00j  0.        +0.00000000e+00j]\n",
      " [ 0.        +0.00000000e+00j  0.        +0.00000000e+00j\n",
      "   0.        +0.00000000e+00j  0.        +0.00000000e+00j\n",
      "   0.        +0.00000000e+00j  0.        +0.00000000e+00j\n",
      "   0.        +0.00000000e+00j  0.        +0.00000000e+00j\n",
      "   0.        +0.00000000e+00j  2.        +0.00000000e+00j\n",
      "   0.        +0.00000000e+00j  2.        +0.00000000e+00j]\n",
      " [ 0.        +0.00000000e+00j  0.        +0.00000000e+00j\n",
      "  -2.8341994 -2.75471515e-09j  0.        +0.00000000e+00j\n",
      "   0.        +0.00000000e+00j  0.        +0.00000000e+00j\n",
      "   0.        +0.00000000e+00j  0.        +0.00000000e+00j\n",
      "   0.        +0.00000000e+00j  0.        +0.00000000e+00j\n",
      "   2.        +0.00000000e+00j  0.        +0.00000000e+00j]]\n",
      "6 0.007397606911294041\n",
      "7 0.006009232465904167\n",
      "8 0.005110438418230327\n",
      "9 0.00439451996779752\n",
      "10 0.0040621523877501136\n",
      "11 0.0034568197160867774\n",
      "12 0.0030684815841867143\n",
      "13 0.002371385436730548\n",
      "14 0.0024691532484022974\n",
      "15 0.0023186892436286837\n",
      "16 0.0017621189865935781\n",
      "17 0.001867810968872429\n",
      "18 0.0011017638229393523\n",
      "19 0.0010509975246493421\n",
      "20 0.001122767420830213\n",
      "21 0.0015182812163308482\n",
      "22 0.001142688858243209\n",
      "23 0.0011674537105149662\n",
      "24 0.0005410194757626344\n",
      "25 0.0005427006042323461\n",
      "26 0.000738572304999665\n",
      "27 0.0003445481295003816\n",
      "28 0.000580710587017686\n",
      "29 0.0007303044585293033\n",
      "30 0.0004006278057243102\n",
      "31 0.0006399541527737239\n",
      "32 0.00015130055171461127\n",
      "33 0.00011970879833923204\n",
      "34 7.020550294924387e-05\n",
      "35 0.0003396393226640851\n",
      "36 0.0009712986955970181\n",
      "37 0.00020285215814385104\n",
      "38 0.00024219522543854997\n",
      "39 0.0002961673723404981\n",
      "40 0.0001701747337712378\n",
      "41 0.00045226216396189163\n",
      "42 0.0003648316387354384\n",
      "43 0.0005885470007712212\n",
      "44 0.00028534529998711506\n",
      "45 0.00016052296716555057\n",
      "46 6.259488668143741e-05\n",
      "47 0.0001489875829333894\n",
      "48 0.0002472536286673606\n",
      "49 0.0001295717893184575\n",
      "50 0.00018013124560100575\n",
      "[[ 0.        +0.00000000e+00j -2.        +0.00000000e+00j\n",
      "   0.        +0.00000000e+00j  0.        +0.00000000e+00j\n",
      "   0.        +0.00000000e+00j  0.        +0.00000000e+00j\n",
      "   0.        +0.00000000e+00j  0.        +0.00000000e+00j\n",
      "   0.        +0.00000000e+00j  2.90720444-3.81134978e-18j\n",
      "   0.        +0.00000000e+00j  0.        +0.00000000e+00j]\n",
      " [-2.        +0.00000000e+00j  0.        +0.00000000e+00j\n",
      "  -2.        +0.00000000e+00j  0.        +0.00000000e+00j\n",
      "   0.        +0.00000000e+00j  0.        +0.00000000e+00j\n",
      "   0.        +0.00000000e+00j  0.        +0.00000000e+00j\n",
      "   0.        +0.00000000e+00j  0.        +0.00000000e+00j\n",
      "   0.        +0.00000000e+00j  0.        +0.00000000e+00j]\n",
      " [ 0.        +0.00000000e+00j -2.        +0.00000000e+00j\n",
      "   0.        +0.00000000e+00j  0.        +0.00000000e+00j\n",
      "   0.        +0.00000000e+00j  0.        +0.00000000e+00j\n",
      "   0.        +0.00000000e+00j  0.        +0.00000000e+00j\n",
      "   0.        +0.00000000e+00j  0.        +0.00000000e+00j\n",
      "   0.        +0.00000000e+00j -2.63391944-3.34873212e-18j]\n",
      " [ 0.        +0.00000000e+00j  0.        +0.00000000e+00j\n",
      "   0.        +0.00000000e+00j  0.        +0.00000000e+00j\n",
      "  -2.        +0.00000000e+00j  0.        +0.00000000e+00j\n",
      "  -2.90720444+3.81134978e-18j  0.        +0.00000000e+00j\n",
      "   0.        +0.00000000e+00j  0.        +0.00000000e+00j\n",
      "   0.        +0.00000000e+00j  0.        +0.00000000e+00j]\n",
      " [ 0.        +0.00000000e+00j  0.        +0.00000000e+00j\n",
      "   0.        +0.00000000e+00j -2.        +0.00000000e+00j\n",
      "   0.        +0.00000000e+00j -2.        +0.00000000e+00j\n",
      "   0.        +0.00000000e+00j  0.        +0.00000000e+00j\n",
      "   0.        +0.00000000e+00j  0.        +0.00000000e+00j\n",
      "   0.        +0.00000000e+00j  0.        +0.00000000e+00j]\n",
      " [ 0.        +0.00000000e+00j  0.        +0.00000000e+00j\n",
      "   0.        +0.00000000e+00j  0.        +0.00000000e+00j\n",
      "  -2.        +0.00000000e+00j  0.        +0.00000000e+00j\n",
      "   0.        +0.00000000e+00j  0.        +0.00000000e+00j\n",
      "   2.63391944+3.34873212e-18j  0.        +0.00000000e+00j\n",
      "   0.        +0.00000000e+00j  0.        +0.00000000e+00j]\n",
      " [ 0.        +0.00000000e+00j  0.        +0.00000000e+00j\n",
      "   0.        +0.00000000e+00j -2.90720444-3.81134978e-18j\n",
      "   0.        +0.00000000e+00j  0.        +0.00000000e+00j\n",
      "   0.        +0.00000000e+00j  2.        +0.00000000e+00j\n",
      "   0.        +0.00000000e+00j  0.        +0.00000000e+00j\n",
      "   0.        +0.00000000e+00j  0.        +0.00000000e+00j]\n",
      " [ 0.        +0.00000000e+00j  0.        +0.00000000e+00j\n",
      "   0.        +0.00000000e+00j  0.        +0.00000000e+00j\n",
      "   0.        +0.00000000e+00j  0.        +0.00000000e+00j\n",
      "   2.        +0.00000000e+00j  0.        +0.00000000e+00j\n",
      "   2.        +0.00000000e+00j  0.        +0.00000000e+00j\n",
      "   0.        +0.00000000e+00j  0.        +0.00000000e+00j]\n",
      " [ 0.        +0.00000000e+00j  0.        +0.00000000e+00j\n",
      "   0.        +0.00000000e+00j  0.        +0.00000000e+00j\n",
      "   0.        +0.00000000e+00j  2.63391944-3.34873212e-18j\n",
      "   0.        +0.00000000e+00j  2.        +0.00000000e+00j\n",
      "   0.        +0.00000000e+00j  0.        +0.00000000e+00j\n",
      "   0.        +0.00000000e+00j  0.        +0.00000000e+00j]\n",
      " [ 2.90720444+3.81134978e-18j  0.        +0.00000000e+00j\n",
      "   0.        +0.00000000e+00j  0.        +0.00000000e+00j\n",
      "   0.        +0.00000000e+00j  0.        +0.00000000e+00j\n",
      "   0.        +0.00000000e+00j  0.        +0.00000000e+00j\n",
      "   0.        +0.00000000e+00j  0.        +0.00000000e+00j\n",
      "   2.        +0.00000000e+00j  0.        +0.00000000e+00j]\n",
      " [ 0.        +0.00000000e+00j  0.        +0.00000000e+00j\n",
      "   0.        +0.00000000e+00j  0.        +0.00000000e+00j\n",
      "   0.        +0.00000000e+00j  0.        +0.00000000e+00j\n",
      "   0.        +0.00000000e+00j  0.        +0.00000000e+00j\n",
      "   0.        +0.00000000e+00j  2.        +0.00000000e+00j\n",
      "   0.        +0.00000000e+00j  2.        +0.00000000e+00j]\n",
      " [ 0.        +0.00000000e+00j  0.        +0.00000000e+00j\n",
      "  -2.63391944+3.34873212e-18j  0.        +0.00000000e+00j\n",
      "   0.        +0.00000000e+00j  0.        +0.00000000e+00j\n",
      "   0.        +0.00000000e+00j  0.        +0.00000000e+00j\n",
      "   0.        +0.00000000e+00j  0.        +0.00000000e+00j\n",
      "   2.        +0.00000000e+00j  0.        +0.00000000e+00j]]\n",
      "51 0.00010146300664865868\n",
      "52 0.00032251577037420166\n",
      "53 9.933270222228164e-05\n",
      "54 0.00030750723715940826\n",
      "55 0.000269517945552167\n",
      "56 0.0003183438536493879\n",
      "57 0.00019915499687802452\n",
      "58 0.0001238929442740622\n",
      "59 0.00018393498757366604\n",
      "60 0.00039707537903534916\n",
      "61 0.00013218078785848068\n",
      "62 0.00025168035483257153\n",
      "63 0.00022104672413809107\n",
      "64 0.00026914485341108076\n",
      "65 0.00019529433489766536\n",
      "66 0.00015554739565364322\n",
      "67 0.00016417544674760974\n",
      "68 0.0002760186484978568\n",
      "69 0.00019935813329231142\n",
      "70 0.00032941690683744554\n",
      "71 4.651645023045106e-05\n",
      "72 0.000230895687618166\n",
      "73 0.00023003938083610806\n",
      "74 0.00023384246187962054\n",
      "75 0.0001712135068615299\n",
      "76 0.00023466177624015087\n",
      "77 0.0001954526813663148\n",
      "78 0.0002560943631429661\n",
      "79 0.00033653367377149766\n",
      "80 0.00016525492361885844\n",
      "81 0.00013194501289275236\n",
      "82 0.0003307111404918685\n",
      "83 0.0003113813992390387\n",
      "84 0.00021333274851323506\n",
      "85 0.0002739340428558232\n",
      "86 0.0001439822453463552\n",
      "87 0.0001558754338379567\n",
      "88 0.00047299355421716094\n",
      "89 0.00019353099513051705\n",
      "90 7.99532156575771e-05\n",
      "91 5.837586182530345e-05\n",
      "92 0.00017668330052240776\n",
      "93 2.0440427609120788e-05\n",
      "94 0.0002828457905212072\n",
      "95 0.0002925617344044767\n",
      "96 2.886046443070052e-05\n",
      "97 0.0001271469117545003\n",
      "98 0.0004432167487992598\n",
      "99 0.00018639439254110083\n",
      "100 0.0004239709178179338\n",
      "101 0.00017661409621226996\n",
      "102 0.00020590720059804175\n",
      "103 0.00016368241499454443\n",
      "104 0.00022578548006379923\n",
      "105 0.0003835500141812897\n",
      "106 0.00015787560513989254\n",
      "107 4.232105953556362e-05\n",
      "108 0.0001611264783996179\n",
      "109 0.0004199826880629533\n",
      "110 8.096701761783079e-05\n",
      "111 9.377378083737081e-05\n",
      "112 0.00018484795006926594\n",
      "113 0.0002987537313791554\n",
      "114 0.00010360709792337609\n",
      "115 8.609522346618256e-05\n",
      "116 0.00048519537275707825\n",
      "117 0.0002832887394774285\n",
      "118 8.640893942960696e-05\n",
      "119 0.0001289717412170743\n",
      "120 0.00011034300570181327\n",
      "121 0.00023530125257623097\n",
      "122 0.00010338769914914269\n",
      "123 3.40028245233684e-05\n",
      "124 0.0005142281539317717\n",
      "125 9.05887221714398e-05\n",
      "126 0.0001992935397249906\n",
      "127 0.00016346888881316944\n",
      "128 0.0002464681810793417\n",
      "129 6.0893645563539564e-05\n",
      "130 0.00020295218217448665\n",
      "131 0.0003077365728565913\n",
      "132 0.0007085713360607729\n",
      "133 0.0003249216968117525\n",
      "134 0.00012586480793754353\n",
      "135 0.00011238695677669986\n",
      "136 0.00027925392340209766\n",
      "137 0.0001478420432080816\n",
      "138 0.00013808056348436136\n",
      "139 5.8277032360526515e-05\n",
      "140 0.00042918743402419244\n",
      "141 0.00028861702098800996\n",
      "142 0.00033396073688625363\n",
      "143 0.00020932893567713478\n",
      "144 0.00033571663400580126\n",
      "145 3.227365077409361e-05\n",
      "146 0.00012038919707005201\n",
      "147 0.0006424400513636186\n",
      "148 0.0001035474913930397\n",
      "149 0.00010702717639644995\n"
     ]
    }
   ],
   "source": [
    "n+=1\n",
    "da= 3\n",
    "db=0\n",
    "dc=-da\n",
    "na=0\n",
    "nb=0\n",
    "nc=na\n",
    "mM = AHM.Model(Del0A = da, Del0B=db, Del0C= dc, nA=na, nB=nb, nC=nc, U=7, UB=0, muB=0, mu=0, t=1, inhomp=True, inhomi=True)\n",
    "alpha=0.8\n",
    "vals = mM.Deltra(k, Nmax=350, Nmin=150, alpha=alpha)\n",
    "\n"
   ]
  },
  {
   "cell_type": "code",
   "execution_count": 1636,
   "id": "a91fe947",
   "metadata": {},
   "outputs": [],
   "source": [
    "dels = vals[0]\n",
    "nus = vals[2]"
   ]
  },
  {
   "cell_type": "code",
   "execution_count": 1637,
   "id": "db0e864c",
   "metadata": {},
   "outputs": [
    {
     "data": {
      "text/plain": [
       "array([1.00000000e+00, 1.00000000e+00, 1.00000000e+00, 1.00000000e+00,\n",
       "       1.00000000e+00, 0.00000000e+00, 1.00477637e-02, 1.05052654e-02,\n",
       "       8.91098843e-03, 7.55629569e-03, 7.39760691e-03, 6.00923247e-03,\n",
       "       5.11043842e-03, 4.39451997e-03, 4.06215239e-03, 3.45681972e-03,\n",
       "       3.06848158e-03, 2.37138544e-03, 2.46915325e-03, 2.31868924e-03,\n",
       "       1.76211899e-03, 1.86781097e-03, 1.10176382e-03, 1.05099752e-03,\n",
       "       1.12276742e-03, 1.51828122e-03, 1.14268886e-03, 1.16745371e-03,\n",
       "       5.41019476e-04, 5.42700604e-04, 7.38572305e-04, 3.44548130e-04,\n",
       "       5.80710587e-04, 7.30304459e-04, 4.00627806e-04, 6.39954153e-04,\n",
       "       1.51300552e-04, 1.19708798e-04, 7.02055029e-05, 3.39639323e-04,\n",
       "       9.71298696e-04, 2.02852158e-04, 2.42195225e-04, 2.96167372e-04,\n",
       "       1.70174734e-04, 4.52262164e-04, 3.64831639e-04, 5.88547001e-04,\n",
       "       2.85345300e-04, 1.60522967e-04, 6.25948867e-05, 1.48987583e-04,\n",
       "       2.47253629e-04, 1.29571789e-04, 1.80131246e-04, 1.01463007e-04,\n",
       "       3.22515770e-04, 9.93327022e-05, 3.07507237e-04, 2.69517946e-04,\n",
       "       3.18343854e-04, 1.99154997e-04, 1.23892944e-04, 1.83934988e-04,\n",
       "       3.97075379e-04, 1.32180788e-04, 2.51680355e-04, 2.21046724e-04,\n",
       "       2.69144853e-04, 1.95294335e-04, 1.55547396e-04, 1.64175447e-04,\n",
       "       2.76018648e-04, 1.99358133e-04, 3.29416907e-04, 4.65164502e-05,\n",
       "       2.30895688e-04, 2.30039381e-04, 2.33842462e-04, 1.71213507e-04,\n",
       "       2.34661776e-04, 1.95452681e-04, 2.56094363e-04, 3.36533674e-04,\n",
       "       1.65254924e-04, 1.31945013e-04, 3.30711140e-04, 3.11381399e-04,\n",
       "       2.13332749e-04, 2.73934043e-04, 1.43982245e-04, 1.55875434e-04,\n",
       "       4.72993554e-04, 1.93530995e-04, 7.99532157e-05, 5.83758618e-05,\n",
       "       1.76683301e-04, 2.04404276e-05, 2.82845791e-04, 2.92561734e-04,\n",
       "       2.88604644e-05, 1.27146912e-04, 4.43216749e-04, 1.86394393e-04,\n",
       "       4.23970918e-04, 1.76614096e-04, 2.05907201e-04, 1.63682415e-04,\n",
       "       2.25785480e-04, 3.83550014e-04, 1.57875605e-04, 4.23210595e-05,\n",
       "       1.61126478e-04, 4.19982688e-04, 8.09670176e-05, 9.37737808e-05,\n",
       "       1.84847950e-04, 2.98753731e-04, 1.03607098e-04, 8.60952235e-05,\n",
       "       4.85195373e-04, 2.83288739e-04, 8.64089394e-05, 1.28971741e-04,\n",
       "       1.10343006e-04, 2.35301253e-04, 1.03387699e-04, 3.40028245e-05,\n",
       "       5.14228154e-04, 9.05887222e-05, 1.99293540e-04, 1.63468889e-04,\n",
       "       2.46468181e-04, 6.08936456e-05, 2.02952182e-04, 3.07736573e-04,\n",
       "       7.08571336e-04, 3.24921697e-04, 1.25864808e-04, 1.12386957e-04,\n",
       "       2.79253923e-04, 1.47842043e-04, 1.38080563e-04, 5.82770324e-05,\n",
       "       4.29187434e-04, 2.88617021e-04, 3.33960737e-04, 2.09328936e-04,\n",
       "       3.35716634e-04, 3.22736508e-05, 1.20389197e-04, 6.42440051e-04,\n",
       "       1.03547491e-04, 1.07027176e-04, 1.35117035e-04])"
      ]
     },
     "execution_count": 1637,
     "metadata": {},
     "output_type": "execute_result"
    }
   ],
   "source": [
    "vals[1]"
   ]
  },
  {
   "cell_type": "code",
   "execution_count": 1638,
   "id": "336ad6ea",
   "metadata": {},
   "outputs": [
    {
     "data": {
      "text/plain": [
       "array([[ 2.9115797 +7.86122404e-18j,  2.91112205-8.82946428e-18j,\n",
       "         2.91091615+7.77984408e-17j,  2.91127745-1.94277225e-17j,\n",
       "         2.91128236-4.96425137e-16j],\n",
       "       [ 0.        +0.00000000e+00j,  0.        +0.00000000e+00j,\n",
       "         0.        +0.00000000e+00j,  0.        +0.00000000e+00j,\n",
       "         0.        +0.00000000e+00j],\n",
       "       [-2.62935128+9.05968970e-18j, -2.63182975-8.98420703e-18j,\n",
       "        -2.63218008+8.62582859e-17j, -2.63196588-2.02355084e-17j,\n",
       "        -2.63143562-5.48039422e-16j]])"
      ]
     },
     "execution_count": 1638,
     "metadata": {},
     "output_type": "execute_result"
    }
   ],
   "source": [
    "dels[:,-5:]"
   ]
  },
  {
   "cell_type": "code",
   "execution_count": 1639,
   "id": "b9e3ca3f",
   "metadata": {},
   "outputs": [],
   "source": [
    "s1 = [np.sum(nus[:,i]) for i in range(np.shape(nus)[1])]\n"
   ]
  },
  {
   "cell_type": "code",
   "execution_count": 1640,
   "id": "e4fb8155",
   "metadata": {},
   "outputs": [],
   "source": [
    "fol = f'calc{date}_{n}'\n",
    "newpath = r\"C:\\Users\\atsch\\Desktop\\MasterVorlesungen\\Sommer25\\Lieb-Lattice\\Pictures\\scf\\'\"+fol\n",
    "\n",
    "if not os.path.exists(newpath):\n",
    "    os.makedirs(newpath)\n",
    "\n",
    "filename = \"parameters.txt\"\n",
    "\n",
    "text = os.path.join(newpath, filename)\n",
    "\n",
    "with open(text, \"w\") as file:\n",
    "    file.write(f\"mM = AHM.Model(Del0A, Del0B, Del0C= {dels[:,0]}, nA, nB, nC={nus[:,0]}, U={mM.U}, UB={mM.UB}, mu={mM.mu}, muB={mM.muB}, t={mM.t}, inhomp={mM.inhomp}, inhomi={mM.inhomi})\\n alpha={alpha}\\n dels: {dels}\\nnus: {nus}\")\n",
    "    file.close"
   ]
  },
  {
   "cell_type": "code",
   "execution_count": 1641,
   "id": "35076884",
   "metadata": {},
   "outputs": [
    {
     "name": "stderr",
     "output_type": "stream",
     "text": [
      "c:\\Users\\atsch\\anaconda3\\Lib\\site-packages\\matplotlib\\cbook.py:1699: ComplexWarning: Casting complex values to real discards the imaginary part\n",
      "  return math.isfinite(val)\n",
      "c:\\Users\\atsch\\anaconda3\\Lib\\site-packages\\matplotlib\\cbook.py:1345: ComplexWarning: Casting complex values to real discards the imaginary part\n",
      "  return np.asarray(x, float)\n"
     ]
    },
    {
     "data": {
      "image/png": "[encoded data removed]",
      "text/plain": [
       "<Figure size 800x600 with 1 Axes>"
      ]
     },
     "metadata": {},
     "output_type": "display_data"
    }
   ],
   "source": [
    "plt.figure(figsize=(8,6))\n",
    "plt.xlabel('Iteration', size='x-large')\n",
    "plt.ylabel(r'$\\nu$', size='x-large')\n",
    "plt.xticks(size='x-large')\n",
    "plt.yticks(size='x-large')\n",
    "#plt.ylim(0,0.35)\n",
    "\n",
    "plt.plot(np.arange(len(s1)), s1, label = r'no hopping')\n",
    "\n",
    "\n",
    "#plt.legend()\n",
    "plt.savefig(newpath+\"//nu.png\")\n",
    "plt.show()"
   ]
  },
  {
   "cell_type": "code",
   "execution_count": 1642,
   "id": "ca745d43",
   "metadata": {},
   "outputs": [
    {
     "data": {
      "image/png": "[encoded data removed]",
      "text/plain": [
       "<Figure size 800x600 with 1 Axes>"
      ]
     },
     "metadata": {},
     "output_type": "display_data"
    }
   ],
   "source": [
    "plt.figure(figsize=(8,6))\n",
    "plt.xlabel('Iteration', size='x-large')\n",
    "plt.ylabel(r'$\\Delta$', size='x-large')\n",
    "plt.xticks(size='x-large')\n",
    "plt.yticks(size='x-large')\n",
    "#plt.ylim(0,0.35)\n",
    "\n",
    "plt.plot(np.arange(len(dels[0])), dels[0], label = r'$\\Delta_A$')\n",
    "plt.plot(np.arange(len(dels[0])), dels[1], label = r'$\\Delta_B$')\n",
    "plt.plot(np.arange(len(dels[0])), dels[2], label = r'$\\Delta_C$')\n",
    "\n",
    "\n",
    "plt.legend()\n",
    "plt.savefig(newpath+\"//dels.png\")\n",
    "\n",
    "plt.show()"
   ]
  },
  {
   "cell_type": "code",
   "execution_count": 1643,
   "id": "397e89f2",
   "metadata": {},
   "outputs": [],
   "source": [
    "da, db, dc = dels[:,-1]\n",
    "na, nb, nc = nus[:,-1]\n",
    "#mM = AHM.Model(Del0A = da, Del0B=db, Del0C= dc, nA=na, nB=nb, nC=nc,mu=0, U=3, t=1, inhomp=False, inhomi=True)\n",
    "H = mM.HBdG()\n",
    "k = np.linspace(0, 2*np.pi, 100)\n",
    "\n",
    "k1 = np.ones(100)\n",
    "k0 = np.zeros(100)\n",
    "path = np.concatenate((k, k, k*np.sqrt(2)))\n",
    "kx = np.concatenate((k,np.pi*2*k1, k[::-1]))\n",
    "ky = np.concatenate((k0, k, k[::-1]))\n",
    "\n",
    "p = [i for i in range(np.shape(path)[0])]\n",
    "np.shape(p)\n",
    "energies = mM.solvHam(kx, ky)\n",
    "\n",
    "np.shape(energies)\n",
    "emax = np.amax(energies)\n",
    "emax = emax+0.1*emax"
   ]
  },
  {
   "cell_type": "code",
   "execution_count": 1644,
   "id": "349c6d3f",
   "metadata": {},
   "outputs": [
    {
     "data": {
      "text/plain": [
       "array([[-4.0654939 , -4.0654939 , -3.85634653, ...,  3.85634653,\n",
       "         4.0654939 ,  4.0654939 ],\n",
       "       [-4.06464143, -4.06464143, -3.85618802, ...,  3.85618802,\n",
       "         4.06464143,  4.06464143],\n",
       "       [-4.06208546, -4.06208546, -3.85571327, ...,  3.85571327,\n",
       "         4.06208546,  4.06208546],\n",
       "       ...,\n",
       "       [-4.06149961, -4.06149961, -3.85221091, ...,  3.85221091,\n",
       "         4.06149961,  4.06149961],\n",
       "       [-4.06449469, -4.06449469, -3.855312  , ...,  3.855312  ,\n",
       "         4.06449469,  4.06449469],\n",
       "       [-4.0654939 , -4.0654939 , -3.85634653, ...,  3.85634653,\n",
       "         4.0654939 ,  4.0654939 ]])"
      ]
     },
     "execution_count": 1644,
     "metadata": {},
     "output_type": "execute_result"
    }
   ],
   "source": [
    "energies.T"
   ]
  },
  {
   "cell_type": "code",
   "execution_count": 1645,
   "id": "590798b9",
   "metadata": {},
   "outputs": [],
   "source": [
    "np.savetxt(newpath +\"//dels.txt\", dels, delimiter=\",\")\n",
    "np.savetxt(newpath +\"//nus.txt\", nus, delimiter=\",\")\n",
    "np.savetxt(newpath +\"//energies.txt\", energies, delimiter=\",\")"
   ]
  },
  {
   "cell_type": "code",
   "execution_count": 1646,
   "id": "a3803b90",
   "metadata": {},
   "outputs": [
    {
     "data": {
      "image/png": "[encoded data removed]",
      "text/plain": [
       "<Figure size 800x600 with 1 Axes>"
      ]
     },
     "metadata": {},
     "output_type": "display_data"
    }
   ],
   "source": [
    "plt.figure(figsize=(8,6))\n",
    "plt.xlabel(\"$(k_x a,k_y a)$\", size='x-large')\n",
    "plt.ylabel(\"E\", size='x-large')\n",
    "plt.yticks(size='x-large')\n",
    "plt.xticks(ticks= [0, 100, 200, 299], labels=[r\"$\\Gamma$\",r\"X\",r\"M\", r\"$\\Gamma$\"], size='x-large')\n",
    "#plt.ylim((-0.5, 0.5))\n",
    "\n",
    "for i in energies:\n",
    "    plt.plot(p, i, color='black')\n",
    "#for i in energies2:\n",
    "#    plt.plot(p, i, color='green', linestyle='dashdot')\n",
    "#plt.plot(p, energies4[0], color='black', label=r'$\\Delta_0=0.5$')\n",
    "#plt.plot(p, energies2[0], color='green', linestyle='dashdot', label=r'$\\Delta_0=1$')\n",
    "\n",
    "plt.vlines([0, 99, 199, 299], [-emax, -emax, -emax, -emax], [emax, emax, emax, emax], colors= 'grey', linestyles='--')\n",
    "#plt.vlines(250, -2, 2)\n",
    "#plt.legend(fontsize='x-large')\n",
    "#plt.savefig(\"Pictures/ESCpath.png\")\n",
    "plt.savefig(newpath+\"//bands.png\")\n",
    "\n",
    "plt.show()"
   ]
  },
  {
   "cell_type": "code",
   "execution_count": null,
   "id": "9351166b",
   "metadata": {},
   "outputs": [],
   "source": []
  },
  {
   "cell_type": "code",
   "execution_count": null,
   "id": "eb4c621f",
   "metadata": {},
   "outputs": [],
   "source": []
  },
  {
   "cell_type": "code",
   "execution_count": null,
   "id": "7a53a222",
   "metadata": {},
   "outputs": [],
   "source": []
  }
 ],
 "metadata": {
  "kernelspec": {
   "display_name": "base",
   "language": "python",
   "name": "python3"
  },
  "language_info": {
   "codemirror_mode": {
    "name": "ipython",
    "version": 3
   },
   "file_extension": ".py",
   "mimetype": "text/x-python",
   "name": "python",
   "nbconvert_exporter": "python",
   "pygments_lexer": "ipython3",
   "version": "3.12.3"
  }
 },
 "nbformat": 4,
 "nbformat_minor": 5
}
