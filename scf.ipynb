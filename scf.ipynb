{
 "cells": [
  {
   "cell_type": "code",
   "execution_count": 427,
   "id": "48b05362",
   "metadata": {},
   "outputs": [],
   "source": [
    "import numpy as np\n",
    "import os\n",
    "import matplotlib.pyplot as plt\n",
    "from importlib import reload\n",
    "import AHM\n",
    "reload(AHM)\n",
    "#n=0\n",
    "date = '080825'"
   ]
  },
  {
   "cell_type": "code",
   "execution_count": 428,
   "id": "11f89d13",
   "metadata": {},
   "outputs": [],
   "source": [
    "k = np.linspace(0, 2*np.pi, 40)"
   ]
  },
  {
   "cell_type": "code",
   "execution_count": 429,
   "id": "56f74569",
   "metadata": {},
   "outputs": [
    {
     "data": {
      "text/plain": [
       "27"
      ]
     },
     "execution_count": 429,
     "metadata": {},
     "output_type": "execute_result"
    }
   ],
   "source": [
    "n"
   ]
  },
  {
   "cell_type": "code",
   "execution_count": 430,
   "id": "48f69f1d",
   "metadata": {},
   "outputs": [
    {
     "name": "stdout",
     "output_type": "stream",
     "text": [
      "0 1\n",
      "[[ 0. +0.j -2. +0.j  0. +0.j  0. +0.j  0. +0.j  0. +0.j  0. +0.j  0. +0.j\n",
      "   0. +0.j -3.5+0.j  0. +0.j  0. +0.j]\n",
      " [-2. +0.j  0. +0.j -2. +0.j  0. +0.j  0. +0.j  0. +0.j  0. +0.j  0. +0.j\n",
      "   0. +0.j  0. +0.j  0. +0.j  0. +0.j]\n",
      " [ 0. +0.j -2. +0.j  0. +0.j  0. +0.j  0. +0.j  0. +0.j  0. +0.j  0. +0.j\n",
      "   0. +0.j  0. +0.j  0. +0.j  3.5+0.j]\n",
      " [ 0. +0.j  0. +0.j  0. +0.j  0. +0.j -2. +0.j  0. +0.j  3.5+0.j  0. +0.j\n",
      "   0. +0.j  0. +0.j  0. +0.j  0. +0.j]\n",
      " [ 0. +0.j  0. +0.j  0. +0.j -2. +0.j  0. +0.j -2. +0.j  0. +0.j  0. +0.j\n",
      "   0. +0.j  0. +0.j  0. +0.j  0. +0.j]\n",
      " [ 0. +0.j  0. +0.j  0. +0.j  0. +0.j -2. +0.j  0. +0.j  0. +0.j  0. +0.j\n",
      "  -3.5+0.j  0. +0.j  0. +0.j  0. +0.j]\n",
      " [ 0. +0.j  0. +0.j  0. +0.j  3.5+0.j  0. +0.j  0. +0.j  0. +0.j  2. +0.j\n",
      "   0. +0.j  0. +0.j  0. +0.j  0. +0.j]\n",
      " [ 0. +0.j  0. +0.j  0. +0.j  0. +0.j  0. +0.j  0. +0.j  2. +0.j  0. +0.j\n",
      "   2. +0.j  0. +0.j  0. +0.j  0. +0.j]\n",
      " [ 0. +0.j  0. +0.j  0. +0.j  0. +0.j  0. +0.j -3.5+0.j  0. +0.j  2. +0.j\n",
      "   0. +0.j  0. +0.j  0. +0.j  0. +0.j]\n",
      " [-3.5+0.j  0. +0.j  0. +0.j  0. +0.j  0. +0.j  0. +0.j  0. +0.j  0. +0.j\n",
      "   0. +0.j  0. +0.j  2. +0.j  0. +0.j]\n",
      " [ 0. +0.j  0. +0.j  0. +0.j  0. +0.j  0. +0.j  0. +0.j  0. +0.j  0. +0.j\n",
      "   0. +0.j  2. +0.j  0. +0.j  2. +0.j]\n",
      " [ 0. +0.j  0. +0.j  3.5+0.j  0. +0.j  0. +0.j  0. +0.j  0. +0.j  0. +0.j\n",
      "   0. +0.j  0. +0.j  2. +0.j  0. +0.j]]\n",
      "1 0.0\n",
      "2 0.17568234974324182\n",
      "3 0.1719159400961604\n",
      "4 0.1679297732747371\n",
      "5 0.16374508714659153\n",
      "[[ 0.00000000e+00+0.j -2.00000000e+00+0.j  0.00000000e+00+0.j\n",
      "   0.00000000e+00+0.j  0.00000000e+00+0.j  0.00000000e+00+0.j\n",
      "   0.00000000e+00+0.j  0.00000000e+00+0.j  0.00000000e+00+0.j\n",
      "  -1.39692041e+00+0.j  0.00000000e+00+0.j  0.00000000e+00+0.j]\n",
      " [-2.00000000e+00+0.j  0.00000000e+00+0.j -2.00000000e+00+0.j\n",
      "   0.00000000e+00+0.j  0.00000000e+00+0.j  0.00000000e+00+0.j\n",
      "   0.00000000e+00+0.j  0.00000000e+00+0.j  0.00000000e+00+0.j\n",
      "   0.00000000e+00+0.j -5.35452615e-04+0.j  0.00000000e+00+0.j]\n",
      " [ 0.00000000e+00+0.j -2.00000000e+00+0.j  0.00000000e+00+0.j\n",
      "   0.00000000e+00+0.j  0.00000000e+00+0.j  0.00000000e+00+0.j\n",
      "   0.00000000e+00+0.j  0.00000000e+00+0.j  0.00000000e+00+0.j\n",
      "   0.00000000e+00+0.j  0.00000000e+00+0.j  1.39807500e+00-0.j]\n",
      " [ 0.00000000e+00+0.j  0.00000000e+00+0.j  0.00000000e+00+0.j\n",
      "   0.00000000e+00+0.j -2.00000000e+00+0.j  0.00000000e+00+0.j\n",
      "   1.39692041e+00+0.j  0.00000000e+00+0.j  0.00000000e+00+0.j\n",
      "   0.00000000e+00+0.j  0.00000000e+00+0.j  0.00000000e+00+0.j]\n",
      " [ 0.00000000e+00+0.j  0.00000000e+00+0.j  0.00000000e+00+0.j\n",
      "  -2.00000000e+00+0.j  0.00000000e+00+0.j -2.00000000e+00+0.j\n",
      "   0.00000000e+00+0.j  5.35452615e-04+0.j  0.00000000e+00+0.j\n",
      "   0.00000000e+00+0.j  0.00000000e+00+0.j  0.00000000e+00+0.j]\n",
      " [ 0.00000000e+00+0.j  0.00000000e+00+0.j  0.00000000e+00+0.j\n",
      "   0.00000000e+00+0.j -2.00000000e+00+0.j  0.00000000e+00+0.j\n",
      "   0.00000000e+00+0.j  0.00000000e+00+0.j -1.39807500e+00+0.j\n",
      "   0.00000000e+00+0.j  0.00000000e+00+0.j  0.00000000e+00+0.j]\n",
      " [ 0.00000000e+00+0.j  0.00000000e+00+0.j  0.00000000e+00+0.j\n",
      "   1.39692041e+00-0.j  0.00000000e+00+0.j  0.00000000e+00+0.j\n",
      "   0.00000000e+00+0.j  2.00000000e+00+0.j  0.00000000e+00+0.j\n",
      "   0.00000000e+00+0.j  0.00000000e+00+0.j  0.00000000e+00+0.j]\n",
      " [ 0.00000000e+00+0.j  0.00000000e+00+0.j  0.00000000e+00+0.j\n",
      "   0.00000000e+00+0.j  5.35452615e-04-0.j  0.00000000e+00+0.j\n",
      "   2.00000000e+00+0.j  0.00000000e+00+0.j  2.00000000e+00+0.j\n",
      "   0.00000000e+00+0.j  0.00000000e+00+0.j  0.00000000e+00+0.j]\n",
      " [ 0.00000000e+00+0.j  0.00000000e+00+0.j  0.00000000e+00+0.j\n",
      "   0.00000000e+00+0.j  0.00000000e+00+0.j -1.39807500e+00+0.j\n",
      "   0.00000000e+00+0.j  2.00000000e+00+0.j  0.00000000e+00+0.j\n",
      "   0.00000000e+00+0.j  0.00000000e+00+0.j  0.00000000e+00+0.j]\n",
      " [-1.39692041e+00+0.j  0.00000000e+00+0.j  0.00000000e+00+0.j\n",
      "   0.00000000e+00+0.j  0.00000000e+00+0.j  0.00000000e+00+0.j\n",
      "   0.00000000e+00+0.j  0.00000000e+00+0.j  0.00000000e+00+0.j\n",
      "   0.00000000e+00+0.j  2.00000000e+00+0.j  0.00000000e+00+0.j]\n",
      " [ 0.00000000e+00+0.j -5.35452615e-04+0.j  0.00000000e+00+0.j\n",
      "   0.00000000e+00+0.j  0.00000000e+00+0.j  0.00000000e+00+0.j\n",
      "   0.00000000e+00+0.j  0.00000000e+00+0.j  0.00000000e+00+0.j\n",
      "   2.00000000e+00+0.j  0.00000000e+00+0.j  2.00000000e+00+0.j]\n",
      " [ 0.00000000e+00+0.j  0.00000000e+00+0.j  1.39807500e+00+0.j\n",
      "   0.00000000e+00+0.j  0.00000000e+00+0.j  0.00000000e+00+0.j\n",
      "   0.00000000e+00+0.j  0.00000000e+00+0.j  0.00000000e+00+0.j\n",
      "   0.00000000e+00+0.j  2.00000000e+00+0.j  0.00000000e+00+0.j]]\n",
      "6 0.15936197902904722\n",
      "7 0.1547615855284104\n",
      "8 0.14991549683746383\n",
      "9 0.14478736500089182\n",
      "10 0.13934605043346057\n",
      "11 0.1335630483337472\n",
      "12 0.12742798806169958\n",
      "13 0.12094008563139685\n",
      "14 0.11412652865244757\n",
      "15 0.1070259871069771\n",
      "16 0.09970966799809693\n",
      "17 0.09231307044097224\n",
      "18 0.08486302527057762\n",
      "19 0.07745517639444045\n",
      "20 0.07027351337302411\n",
      "21 0.0633500793951179\n",
      "22 0.056857708770114535\n",
      "23 0.050799695395941535\n",
      "24 0.04531577193123661\n",
      "25 0.04037130383213742\n",
      "26 0.03606356532133639\n",
      "27 0.03232265417678192\n",
      "28 0.029202589895415434\n",
      "29 0.026606375946001088\n",
      "30 0.024547860759100017\n",
      "31 0.022914537860991485\n",
      "32 0.021690113673102446\n",
      "33 0.020764528099830093\n",
      "34 0.020109994474002423\n",
      "35 0.019637269786208306\n",
      "36 0.019323301494334037\n",
      "37 0.01910674285594402\n",
      "38 0.018974493502635026\n",
      "39 0.018888936443610435\n",
      "40 0.018844802747549416\n",
      "41 0.018820497619623483\n",
      "42 0.018815070736596558\n",
      "43 0.01881652641430946\n",
      "44 0.0188257486289253\n",
      "45 0.018836165689394783\n",
      "46 0.018849180421377697\n",
      "47 0.018861207221639063\n",
      "48 0.0188735960029049\n",
      "49 0.018884389949361695\n",
      "50 0.018894694694440908\n",
      "[[ 0.00000000e+00+0.j -2.00000000e+00+0.j  0.00000000e+00+0.j\n",
      "   0.00000000e+00+0.j  0.00000000e+00+0.j  0.00000000e+00+0.j\n",
      "   0.00000000e+00+0.j  0.00000000e+00+0.j  0.00000000e+00+0.j\n",
      "  -1.56605962e-01+0.j  0.00000000e+00+0.j  0.00000000e+00+0.j]\n",
      " [-2.00000000e+00+0.j  0.00000000e+00+0.j -2.00000000e+00+0.j\n",
      "   0.00000000e+00+0.j  0.00000000e+00+0.j  0.00000000e+00+0.j\n",
      "   0.00000000e+00+0.j  0.00000000e+00+0.j  0.00000000e+00+0.j\n",
      "   0.00000000e+00+0.j  1.22293840e-04-0.j  0.00000000e+00+0.j]\n",
      " [ 0.00000000e+00+0.j -2.00000000e+00+0.j  0.00000000e+00+0.j\n",
      "   0.00000000e+00+0.j  0.00000000e+00+0.j  0.00000000e+00+0.j\n",
      "   0.00000000e+00+0.j  0.00000000e+00+0.j  0.00000000e+00+0.j\n",
      "   0.00000000e+00+0.j  0.00000000e+00+0.j  1.53672541e-01-0.j]\n",
      " [ 0.00000000e+00+0.j  0.00000000e+00+0.j  0.00000000e+00+0.j\n",
      "   0.00000000e+00+0.j -2.00000000e+00+0.j  0.00000000e+00+0.j\n",
      "   1.56605962e-01+0.j  0.00000000e+00+0.j  0.00000000e+00+0.j\n",
      "   0.00000000e+00+0.j  0.00000000e+00+0.j  0.00000000e+00+0.j]\n",
      " [ 0.00000000e+00+0.j  0.00000000e+00+0.j  0.00000000e+00+0.j\n",
      "  -2.00000000e+00+0.j  0.00000000e+00+0.j -2.00000000e+00+0.j\n",
      "   0.00000000e+00+0.j -1.22293840e-04+0.j  0.00000000e+00+0.j\n",
      "   0.00000000e+00+0.j  0.00000000e+00+0.j  0.00000000e+00+0.j]\n",
      " [ 0.00000000e+00+0.j  0.00000000e+00+0.j  0.00000000e+00+0.j\n",
      "   0.00000000e+00+0.j -2.00000000e+00+0.j  0.00000000e+00+0.j\n",
      "   0.00000000e+00+0.j  0.00000000e+00+0.j -1.53672541e-01+0.j\n",
      "   0.00000000e+00+0.j  0.00000000e+00+0.j  0.00000000e+00+0.j]\n",
      " [ 0.00000000e+00+0.j  0.00000000e+00+0.j  0.00000000e+00+0.j\n",
      "   1.56605962e-01-0.j  0.00000000e+00+0.j  0.00000000e+00+0.j\n",
      "   0.00000000e+00+0.j  2.00000000e+00+0.j  0.00000000e+00+0.j\n",
      "   0.00000000e+00+0.j  0.00000000e+00+0.j  0.00000000e+00+0.j]\n",
      " [ 0.00000000e+00+0.j  0.00000000e+00+0.j  0.00000000e+00+0.j\n",
      "   0.00000000e+00+0.j -1.22293840e-04+0.j  0.00000000e+00+0.j\n",
      "   2.00000000e+00+0.j  0.00000000e+00+0.j  2.00000000e+00+0.j\n",
      "   0.00000000e+00+0.j  0.00000000e+00+0.j  0.00000000e+00+0.j]\n",
      " [ 0.00000000e+00+0.j  0.00000000e+00+0.j  0.00000000e+00+0.j\n",
      "   0.00000000e+00+0.j  0.00000000e+00+0.j -1.53672541e-01+0.j\n",
      "   0.00000000e+00+0.j  2.00000000e+00+0.j  0.00000000e+00+0.j\n",
      "   0.00000000e+00+0.j  0.00000000e+00+0.j  0.00000000e+00+0.j]\n",
      " [-1.56605962e-01+0.j  0.00000000e+00+0.j  0.00000000e+00+0.j\n",
      "   0.00000000e+00+0.j  0.00000000e+00+0.j  0.00000000e+00+0.j\n",
      "   0.00000000e+00+0.j  0.00000000e+00+0.j  0.00000000e+00+0.j\n",
      "   0.00000000e+00+0.j  2.00000000e+00+0.j  0.00000000e+00+0.j]\n",
      " [ 0.00000000e+00+0.j  1.22293840e-04+0.j  0.00000000e+00+0.j\n",
      "   0.00000000e+00+0.j  0.00000000e+00+0.j  0.00000000e+00+0.j\n",
      "   0.00000000e+00+0.j  0.00000000e+00+0.j  0.00000000e+00+0.j\n",
      "   2.00000000e+00+0.j  0.00000000e+00+0.j  2.00000000e+00+0.j]\n",
      " [ 0.00000000e+00+0.j  0.00000000e+00+0.j  1.53672541e-01+0.j\n",
      "   0.00000000e+00+0.j  0.00000000e+00+0.j  0.00000000e+00+0.j\n",
      "   0.00000000e+00+0.j  0.00000000e+00+0.j  0.00000000e+00+0.j\n",
      "   0.00000000e+00+0.j  2.00000000e+00+0.j  0.00000000e+00+0.j]]\n",
      "51 0.018903441001382665\n",
      "52 0.018911466408657342\n",
      "53 0.018918186649377652\n",
      "54 0.01892420872772214\n",
      "55 0.0189292143200874\n",
      "56 0.01893363159790784\n",
      "57 0.018937288472702783\n",
      "58 0.0189404818013566\n",
      "59 0.018943119943788944\n",
      "60 0.018945406427169957\n",
      "61 0.018947293729744442\n",
      "62 0.01894892039007314\n",
      "63 0.018950262879744495\n",
      "64 0.018951415076672435\n",
      "65 0.01895236629461245\n",
      "66 0.018953179981226576\n",
      "67 0.01895385213629963\n",
      "68 0.018954425585459487\n",
      "69 0.018954899646762738\n",
      "70 0.01895530321632094\n",
      "71 0.01895563711887454\n",
      "72 0.018955920858138395\n",
      "73 0.018956155818635585\n",
      "74 0.01895635517527738\n",
      "75 0.018956520401189805\n",
      "76 0.018956660406391643\n",
      "77 0.018956776538557988\n",
      "78 0.018956874831786635\n",
      "79 0.01895695642916852\n",
      "80 0.018957025423467055\n",
      "81 0.018957082741381397\n",
      "82 0.01895713116347646\n",
      "83 0.018957171418874482\n",
      "84 0.018957205399847264\n",
      "85 0.0189572336680484\n",
      "86 0.018957257513437804\n",
      "87 0.01895727736192349\n",
      "88 0.01895729409436278\n",
      "89 0.018957308029857272\n",
      "90 0.018957319770910953\n",
      "91 0.01895732955433498\n",
      "92 0.0189573377929126\n",
      "93 0.018957344661043807\n",
      "94 0.018957350441974774\n",
      "95 0.01895735526333401\n",
      "96 0.018957359319777763\n",
      "97 0.018957362704218328\n",
      "98 0.01895736555062186\n",
      "99 0.01895736792632941\n",
      "100 0.018957369923667165\n",
      "[[ 0.00000000e+00+0.j -2.00000000e+00+0.j  0.00000000e+00+0.j\n",
      "   0.00000000e+00+0.j  0.00000000e+00+0.j  0.00000000e+00+0.j\n",
      "   0.00000000e+00+0.j  0.00000000e+00+0.j  0.00000000e+00+0.j\n",
      "  -1.56216454e-01+0.j  0.00000000e+00+0.j  0.00000000e+00+0.j]\n",
      " [-2.00000000e+00+0.j  0.00000000e+00+0.j -2.00000000e+00+0.j\n",
      "   0.00000000e+00+0.j  0.00000000e+00+0.j  0.00000000e+00+0.j\n",
      "   0.00000000e+00+0.j  0.00000000e+00+0.j  0.00000000e+00+0.j\n",
      "   0.00000000e+00+0.j  1.21778078e-04-0.j  0.00000000e+00+0.j]\n",
      " [ 0.00000000e+00+0.j -2.00000000e+00+0.j  0.00000000e+00+0.j\n",
      "   0.00000000e+00+0.j  0.00000000e+00+0.j  0.00000000e+00+0.j\n",
      "   0.00000000e+00+0.j  0.00000000e+00+0.j  0.00000000e+00+0.j\n",
      "   0.00000000e+00+0.j  0.00000000e+00+0.j  1.53282676e-01-0.j]\n",
      " [ 0.00000000e+00+0.j  0.00000000e+00+0.j  0.00000000e+00+0.j\n",
      "   0.00000000e+00+0.j -2.00000000e+00+0.j  0.00000000e+00+0.j\n",
      "   1.56216454e-01+0.j  0.00000000e+00+0.j  0.00000000e+00+0.j\n",
      "   0.00000000e+00+0.j  0.00000000e+00+0.j  0.00000000e+00+0.j]\n",
      " [ 0.00000000e+00+0.j  0.00000000e+00+0.j  0.00000000e+00+0.j\n",
      "  -2.00000000e+00+0.j  0.00000000e+00+0.j -2.00000000e+00+0.j\n",
      "   0.00000000e+00+0.j -1.21778078e-04+0.j  0.00000000e+00+0.j\n",
      "   0.00000000e+00+0.j  0.00000000e+00+0.j  0.00000000e+00+0.j]\n",
      " [ 0.00000000e+00+0.j  0.00000000e+00+0.j  0.00000000e+00+0.j\n",
      "   0.00000000e+00+0.j -2.00000000e+00+0.j  0.00000000e+00+0.j\n",
      "   0.00000000e+00+0.j  0.00000000e+00+0.j -1.53282676e-01+0.j\n",
      "   0.00000000e+00+0.j  0.00000000e+00+0.j  0.00000000e+00+0.j]\n",
      " [ 0.00000000e+00+0.j  0.00000000e+00+0.j  0.00000000e+00+0.j\n",
      "   1.56216454e-01-0.j  0.00000000e+00+0.j  0.00000000e+00+0.j\n",
      "   0.00000000e+00+0.j  2.00000000e+00+0.j  0.00000000e+00+0.j\n",
      "   0.00000000e+00+0.j  0.00000000e+00+0.j  0.00000000e+00+0.j]\n",
      " [ 0.00000000e+00+0.j  0.00000000e+00+0.j  0.00000000e+00+0.j\n",
      "   0.00000000e+00+0.j -1.21778078e-04+0.j  0.00000000e+00+0.j\n",
      "   2.00000000e+00+0.j  0.00000000e+00+0.j  2.00000000e+00+0.j\n",
      "   0.00000000e+00+0.j  0.00000000e+00+0.j  0.00000000e+00+0.j]\n",
      " [ 0.00000000e+00+0.j  0.00000000e+00+0.j  0.00000000e+00+0.j\n",
      "   0.00000000e+00+0.j  0.00000000e+00+0.j -1.53282676e-01+0.j\n",
      "   0.00000000e+00+0.j  2.00000000e+00+0.j  0.00000000e+00+0.j\n",
      "   0.00000000e+00+0.j  0.00000000e+00+0.j  0.00000000e+00+0.j]\n",
      " [-1.56216454e-01+0.j  0.00000000e+00+0.j  0.00000000e+00+0.j\n",
      "   0.00000000e+00+0.j  0.00000000e+00+0.j  0.00000000e+00+0.j\n",
      "   0.00000000e+00+0.j  0.00000000e+00+0.j  0.00000000e+00+0.j\n",
      "   0.00000000e+00+0.j  2.00000000e+00+0.j  0.00000000e+00+0.j]\n",
      " [ 0.00000000e+00+0.j  1.21778078e-04+0.j  0.00000000e+00+0.j\n",
      "   0.00000000e+00+0.j  0.00000000e+00+0.j  0.00000000e+00+0.j\n",
      "   0.00000000e+00+0.j  0.00000000e+00+0.j  0.00000000e+00+0.j\n",
      "   2.00000000e+00+0.j  0.00000000e+00+0.j  2.00000000e+00+0.j]\n",
      " [ 0.00000000e+00+0.j  0.00000000e+00+0.j  1.53282676e-01+0.j\n",
      "   0.00000000e+00+0.j  0.00000000e+00+0.j  0.00000000e+00+0.j\n",
      "   0.00000000e+00+0.j  0.00000000e+00+0.j  0.00000000e+00+0.j\n",
      "   0.00000000e+00+0.j  2.00000000e+00+0.j  0.00000000e+00+0.j]]\n",
      "101 0.018957371591258394\n",
      "102 0.018957372992815393\n",
      "103 0.018957374163334085\n",
      "104 0.018957375146833474\n",
      "105 0.018957375968432368\n",
      "106 0.018957376658580063\n",
      "107 0.018957377235261554\n",
      "108 0.018957377719560718\n",
      "109 0.018957378124328045\n",
      "110 0.018957378464180597\n",
      "111 0.01895737874828055\n",
      "112 0.018957378986770166\n",
      "113 0.018957379186174163\n",
      "114 0.018957379353533862\n",
      "115 0.018957379493489544\n",
      "116 0.018957379610935358\n",
      "117 0.018957379709165695\n",
      "118 0.018957379791584603\n",
      "119 0.0189573798605285\n",
      "120 0.018957379918367816\n",
      "121 0.01895737996675582\n",
      "122 0.018957380007345804\n",
      "123 0.018957380041307422\n",
      "124 0.018957380069792376\n",
      "125 0.018957380093628216\n",
      "126 0.018957380113617663\n",
      "127 0.018957380130347184\n",
      "128 0.018957380144375466\n",
      "129 0.018957380156117084\n",
      "130 0.018957380165961782\n",
      "131 0.01895738017420232\n",
      "132 0.018957380181111573\n",
      "133 0.018957380186895238\n",
      "134 0.018957380191743034\n",
      "135 0.01895738019580234\n",
      "136 0.018957380199205977\n",
      "137 0.01895738020205409\n",
      "138 0.018957380204442365\n",
      "139 0.018957380206441377\n",
      "140 0.01895738020811679\n",
      "141 0.018957380209520626\n",
      "142 0.01895738021069734\n",
      "143 0.018957380211681436\n",
      "144 0.018957380212506935\n",
      "145 0.018957380213198316\n",
      "146 0.0189573802137773\n",
      "147 0.01895738021426237\n",
      "148 0.01895738021466942\n",
      "149 0.018957380215009482\n"
     ]
    }
   ],
   "source": [
    "n+=1\n",
    "da=7\n",
    "db=0\n",
    "dc=-da\n",
    "na=0\n",
    "nb=0\n",
    "nc=na\n",
    "mM = AHM.Model(Del0A = da, Del0B=db, Del0C= dc, nA=na, nB=nb, nC=nc, U=2, UB=2, muB=0, mu=0, t=1, inhomp=True, inhomi=True)\n",
    "alpha=0.8\n",
    "vals = mM.Deltra(k, Nmax=150, Nmin=30, alpha=alpha)\n",
    "\n"
   ]
  },
  {
   "cell_type": "code",
   "execution_count": 431,
   "id": "a91fe947",
   "metadata": {},
   "outputs": [],
   "source": [
    "dels = vals[0]\n",
    "nus = vals[2]"
   ]
  },
  {
   "cell_type": "code",
   "execution_count": 432,
   "id": "db0e864c",
   "metadata": {},
   "outputs": [
    {
     "data": {
      "text/plain": [
       "array([1.        , 1.        , 1.        , 1.        , 1.        ,\n",
       "       0.        , 0.17568235, 0.17191594, 0.16792977, 0.16374509,\n",
       "       0.15936198, 0.15476159, 0.1499155 , 0.14478737, 0.13934605,\n",
       "       0.13356305, 0.12742799, 0.12094009, 0.11412653, 0.10702599,\n",
       "       0.09970967, 0.09231307, 0.08486303, 0.07745518, 0.07027351,\n",
       "       0.06335008, 0.05685771, 0.0507997 , 0.04531577, 0.0403713 ,\n",
       "       0.03606357, 0.03232265, 0.02920259, 0.02660638, 0.02454786,\n",
       "       0.02291454, 0.02169011, 0.02076453, 0.02010999, 0.01963727,\n",
       "       0.0193233 , 0.01910674, 0.01897449, 0.01888894, 0.0188448 ,\n",
       "       0.0188205 , 0.01881507, 0.01881653, 0.01882575, 0.01883617,\n",
       "       0.01884918, 0.01886121, 0.0188736 , 0.01888439, 0.01889469,\n",
       "       0.01890344, 0.01891147, 0.01891819, 0.01892421, 0.01892921,\n",
       "       0.01893363, 0.01893729, 0.01894048, 0.01894312, 0.01894541,\n",
       "       0.01894729, 0.01894892, 0.01895026, 0.01895142, 0.01895237,\n",
       "       0.01895318, 0.01895385, 0.01895443, 0.0189549 , 0.0189553 ,\n",
       "       0.01895564, 0.01895592, 0.01895616, 0.01895636, 0.01895652,\n",
       "       0.01895666, 0.01895678, 0.01895687, 0.01895696, 0.01895703,\n",
       "       0.01895708, 0.01895713, 0.01895717, 0.01895721, 0.01895723,\n",
       "       0.01895726, 0.01895728, 0.01895729, 0.01895731, 0.01895732,\n",
       "       0.01895733, 0.01895734, 0.01895734, 0.01895735, 0.01895736,\n",
       "       0.01895736, 0.01895736, 0.01895737, 0.01895737, 0.01895737,\n",
       "       0.01895737, 0.01895737, 0.01895737, 0.01895738, 0.01895738,\n",
       "       0.01895738, 0.01895738, 0.01895738, 0.01895738, 0.01895738,\n",
       "       0.01895738, 0.01895738, 0.01895738, 0.01895738, 0.01895738,\n",
       "       0.01895738, 0.01895738, 0.01895738, 0.01895738, 0.01895738,\n",
       "       0.01895738, 0.01895738, 0.01895738, 0.01895738, 0.01895738,\n",
       "       0.01895738, 0.01895738, 0.01895738, 0.01895738, 0.01895738,\n",
       "       0.01895738, 0.01895738, 0.01895738, 0.01895738, 0.01895738,\n",
       "       0.01895738, 0.01895738, 0.01895738, 0.01895738, 0.01895738,\n",
       "       0.01895738, 0.01895738, 0.01895738, 0.01895738, 0.01895738,\n",
       "       0.01895738, 0.01895738, 0.01895738, 0.01895738, 0.01895738])"
      ]
     },
     "execution_count": 432,
     "metadata": {},
     "output_type": "execute_result"
    }
   ],
   "source": [
    "vals[1]"
   ]
  },
  {
   "cell_type": "code",
   "execution_count": 433,
   "id": "336ad6ea",
   "metadata": {},
   "outputs": [
    {
     "data": {
      "text/plain": [
       "array([[ 3.06565241e-01+0.j,  3.12432796e-01+0.j,  3.06565241e-01+0.j,\n",
       "         3.12432796e-01+0.j,  3.06565241e-01+0.j],\n",
       "       [ 2.43556022e-04+0.j, -2.43556022e-04+0.j,  2.43556022e-04+0.j,\n",
       "        -2.43556022e-04+0.j,  2.43556022e-04+0.j],\n",
       "       [-3.12432796e-01+0.j, -3.06565241e-01+0.j, -3.12432796e-01+0.j,\n",
       "        -3.06565241e-01+0.j, -3.12432796e-01+0.j]])"
      ]
     },
     "execution_count": 433,
     "metadata": {},
     "output_type": "execute_result"
    }
   ],
   "source": [
    "dels[:,-5:]"
   ]
  },
  {
   "cell_type": "code",
   "execution_count": 434,
   "id": "b9e3ca3f",
   "metadata": {},
   "outputs": [],
   "source": [
    "s1 = [np.sum(nus[:,i]) for i in range(np.shape(nus)[1])]\n"
   ]
  },
  {
   "cell_type": "code",
   "execution_count": 435,
   "id": "e4fb8155",
   "metadata": {},
   "outputs": [],
   "source": [
    "fol = f'calc{date}_{n}'\n",
    "newpath = r\"C:\\Users\\atsch\\Desktop\\MasterVorlesungen\\Sommer25\\Lieb-Lattice\\Pictures\\scf\\'\"+fol\n",
    "\n",
    "if not os.path.exists(newpath):\n",
    "    os.makedirs(newpath)\n",
    "\n",
    "filename = \"parameters.txt\"\n",
    "\n",
    "text = os.path.join(newpath, filename)\n",
    "\n",
    "with open(text, \"w\") as file:\n",
    "    file.write(f\"mM = AHM.Model(Del0A, Del0B, Del0C= {dels[:,0]}, nA, nB, nC={nus[:,0]}, U={mM.U}, UB={mM.UB}, mu={mM.mu}, muB={mM.muB}, t={mM.t}, inhomp={mM.inhomp}, inhomi={mM.inhomi})\\n alpha={alpha}\\n dels: {dels}\\nnus: {nus}\")\n",
    "    file.close"
   ]
  },
  {
   "cell_type": "code",
   "execution_count": 436,
   "id": "35076884",
   "metadata": {},
   "outputs": [
    {
     "name": "stderr",
     "output_type": "stream",
     "text": [
      "c:\\Users\\atsch\\anaconda3\\Lib\\site-packages\\matplotlib\\cbook.py:1699: ComplexWarning: Casting complex values to real discards the imaginary part\n",
      "  return math.isfinite(val)\n",
      "c:\\Users\\atsch\\anaconda3\\Lib\\site-packages\\matplotlib\\cbook.py:1345: ComplexWarning: Casting complex values to real discards the imaginary part\n",
      "  return np.asarray(x, float)\n"
     ]
    },
    {
     "data": {
      "image/png": "[encoded data removed]",
      "text/plain": [
       "<Figure size 800x600 with 1 Axes>"
      ]
     },
     "metadata": {},
     "output_type": "display_data"
    }
   ],
   "source": [
    "plt.figure(figsize=(8,6))\n",
    "plt.xlabel('Iteration', size='x-large')\n",
    "plt.ylabel(r'$\\nu$', size='x-large')\n",
    "plt.xticks(size='x-large')\n",
    "plt.yticks(size='x-large')\n",
    "#plt.ylim(0,0.35)\n",
    "\n",
    "plt.plot(np.arange(len(s1)), s1, label = r'no hopping')\n",
    "\n",
    "\n",
    "#plt.legend()\n",
    "plt.savefig(newpath+\"//nu.png\")\n",
    "plt.show()"
   ]
  },
  {
   "cell_type": "code",
   "execution_count": 437,
   "id": "ca745d43",
   "metadata": {},
   "outputs": [
    {
     "data": {
      "image/png": "[encoded data removed]",
      "text/plain": [
       "<Figure size 800x600 with 1 Axes>"
      ]
     },
     "metadata": {},
     "output_type": "display_data"
    }
   ],
   "source": [
    "plt.figure(figsize=(8,6))\n",
    "plt.xlabel('Iteration', size='x-large')\n",
    "plt.ylabel(r'$\\Delta$', size='x-large')\n",
    "plt.xticks(size='x-large')\n",
    "plt.yticks(size='x-large')\n",
    "#plt.ylim(0,0.35)\n",
    "\n",
    "plt.plot(np.arange(len(dels[0])), dels[0], label = r'$\\Delta_A$')\n",
    "plt.plot(np.arange(len(dels[0])), dels[1], label = r'$\\Delta_B$')\n",
    "plt.plot(np.arange(len(dels[0])), dels[2], label = r'$\\Delta_C$')\n",
    "#plt.plot(np.arange(len(dels[0])), np.abs(dels[0]), label = r'$\\Delta_A$')\n",
    "#plt.plot(np.arange(len(dels[0])), np.abs(dels[1]), label = r'$\\Delta_B$')\n",
    "#plt.plot(np.arange(len(dels[0])), np.abs(dels[2]), label = r'$\\Delta_C$')\n",
    "\n",
    "plt.legend()\n",
    "plt.savefig(newpath+\"//dels.png\")\n",
    "\n",
    "plt.show()"
   ]
  },
  {
   "cell_type": "code",
   "execution_count": 438,
   "id": "397e89f2",
   "metadata": {},
   "outputs": [],
   "source": [
    "da, db, dc = dels[:,-1]\n",
    "na, nb, nc = nus[:,-1]\n",
    "#mM = AHM.Model(Del0A = da, Del0B=db, Del0C= dc, nA=na, nB=nb, nC=nc,mu=0, U=3, t=1, inhomp=False, inhomi=True)\n",
    "H = mM.HBdG()\n",
    "k = np.linspace(0, 2*np.pi, 100)\n",
    "\n",
    "k1 = np.ones(100)\n",
    "k0 = np.zeros(100)\n",
    "path = np.concatenate((k, k, k*np.sqrt(2)))\n",
    "kx = np.concatenate((k,np.pi*2*k1, k[::-1]))\n",
    "ky = np.concatenate((k0, k, k[::-1]))\n",
    "\n",
    "p = [i for i in range(np.shape(path)[0])]\n",
    "np.shape(p)\n",
    "energies = mM.solvHam(kx, ky)\n",
    "\n",
    "np.shape(energies)\n",
    "emax = np.amax(energies)\n",
    "emax = emax+0.1*emax"
   ]
  },
  {
   "cell_type": "code",
   "execution_count": 439,
   "id": "349c6d3f",
   "metadata": {},
   "outputs": [
    {
     "data": {
      "text/plain": [
       "array([[-2.83345373, -2.83345373, -2.83186105, ...,  2.83186105,\n",
       "         2.83345373,  2.83345373],\n",
       "       [-2.83270403, -2.83270403, -2.83118904, ...,  2.83118904,\n",
       "         2.83270403,  2.83270403],\n",
       "       [-2.83045663, -2.83045663, -2.82917488, ...,  2.82917488,\n",
       "         2.83045663,  2.83045663],\n",
       "       ...,\n",
       "       [-2.82776772, -2.82776772, -2.82617502, ...,  2.82617502,\n",
       "         2.82776772,  2.82776772],\n",
       "       [-2.83203186, -2.83203186, -2.83043918, ...,  2.83043918,\n",
       "         2.83203186,  2.83203186],\n",
       "       [-2.83345373, -2.83345373, -2.83186105, ...,  2.83186105,\n",
       "         2.83345373,  2.83345373]])"
      ]
     },
     "execution_count": 439,
     "metadata": {},
     "output_type": "execute_result"
    }
   ],
   "source": [
    "energies.T"
   ]
  },
  {
   "cell_type": "code",
   "execution_count": 440,
   "id": "590798b9",
   "metadata": {},
   "outputs": [],
   "source": [
    "np.savetxt(newpath +\"//dels.txt\", dels, delimiter=\",\")\n",
    "np.savetxt(newpath +\"//nus.txt\", nus, delimiter=\",\")\n",
    "np.savetxt(newpath +\"//energies.txt\", energies, delimiter=\",\")"
   ]
  },
  {
   "cell_type": "code",
   "execution_count": 441,
   "id": "a3803b90",
   "metadata": {},
   "outputs": [
    {
     "data": {
      "image/png": "[encoded data removed]",
      "text/plain": [
       "<Figure size 800x600 with 1 Axes>"
      ]
     },
     "metadata": {},
     "output_type": "display_data"
    }
   ],
   "source": [
    "plt.figure(figsize=(8,6))\n",
    "plt.xlabel(\"$(k_x a,k_y a)$\", size='x-large')\n",
    "plt.ylabel(\"E\", size='x-large')\n",
    "plt.yticks(size='x-large')\n",
    "plt.xticks(ticks= [0, 100, 200, 299], labels=[r\"$\\Gamma$\",r\"X\",r\"M\", r\"$\\Gamma$\"], size='x-large')\n",
    "#plt.ylim((-0.5, 0.5))\n",
    "\n",
    "for i in energies:\n",
    "    plt.plot(p, i, color='black')\n",
    "#for i in energies2:\n",
    "#    plt.plot(p, i, color='green', linestyle='dashdot')\n",
    "#plt.plot(p, energies4[0], color='black', label=r'$\\Delta_0=0.5$')\n",
    "#plt.plot(p, energies2[0], color='green', linestyle='dashdot', label=r'$\\Delta_0=1$')\n",
    "\n",
    "plt.vlines([0, 99, 199, 299], [-emax, -emax, -emax, -emax], [emax, emax, emax, emax], colors= 'grey', linestyles='--')\n",
    "#plt.vlines(250, -2, 2)\n",
    "#plt.legend(fontsize='x-large')\n",
    "#plt.savefig(\"Pictures/ESCpath.png\")\n",
    "plt.savefig(newpath+\"//bands.png\")\n",
    "\n",
    "plt.show()"
   ]
  },
  {
   "cell_type": "code",
   "execution_count": 442,
   "id": "9351166b",
   "metadata": {},
   "outputs": [
    {
     "data": {
      "text/plain": [
       "array([[ 0.00000000e+00+0.j, -2.00000000e+00+0.j,  0.00000000e+00+0.j,\n",
       "         0.00000000e+00+0.j,  0.00000000e+00+0.j,  0.00000000e+00+0.j,\n",
       "         0.00000000e+00+0.j,  0.00000000e+00+0.j,  0.00000000e+00+0.j,\n",
       "        -1.56216398e-01+0.j,  0.00000000e+00+0.j,  0.00000000e+00+0.j],\n",
       "       [-2.00000000e+00+0.j,  0.00000000e+00+0.j, -2.00000000e+00+0.j,\n",
       "         0.00000000e+00+0.j,  0.00000000e+00+0.j,  0.00000000e+00+0.j,\n",
       "         0.00000000e+00+0.j,  0.00000000e+00+0.j,  0.00000000e+00+0.j,\n",
       "         0.00000000e+00+0.j,  1.21778011e-04-0.j,  0.00000000e+00+0.j],\n",
       "       [ 0.00000000e+00+0.j, -2.00000000e+00+0.j,  0.00000000e+00+0.j,\n",
       "         0.00000000e+00+0.j,  0.00000000e+00+0.j,  0.00000000e+00+0.j,\n",
       "         0.00000000e+00+0.j,  0.00000000e+00+0.j,  0.00000000e+00+0.j,\n",
       "         0.00000000e+00+0.j,  0.00000000e+00+0.j,  1.53282621e-01-0.j],\n",
       "       [ 0.00000000e+00+0.j,  0.00000000e+00+0.j,  0.00000000e+00+0.j,\n",
       "         0.00000000e+00+0.j, -2.00000000e+00+0.j,  0.00000000e+00+0.j,\n",
       "         1.56216398e-01+0.j,  0.00000000e+00+0.j,  0.00000000e+00+0.j,\n",
       "         0.00000000e+00+0.j,  0.00000000e+00+0.j,  0.00000000e+00+0.j],\n",
       "       [ 0.00000000e+00+0.j,  0.00000000e+00+0.j,  0.00000000e+00+0.j,\n",
       "        -2.00000000e+00+0.j,  0.00000000e+00+0.j, -2.00000000e+00+0.j,\n",
       "         0.00000000e+00+0.j, -1.21778011e-04+0.j,  0.00000000e+00+0.j,\n",
       "         0.00000000e+00+0.j,  0.00000000e+00+0.j,  0.00000000e+00+0.j],\n",
       "       [ 0.00000000e+00+0.j,  0.00000000e+00+0.j,  0.00000000e+00+0.j,\n",
       "         0.00000000e+00+0.j, -2.00000000e+00+0.j,  0.00000000e+00+0.j,\n",
       "         0.00000000e+00+0.j,  0.00000000e+00+0.j, -1.53282621e-01+0.j,\n",
       "         0.00000000e+00+0.j,  0.00000000e+00+0.j,  0.00000000e+00+0.j],\n",
       "       [ 0.00000000e+00+0.j,  0.00000000e+00+0.j,  0.00000000e+00+0.j,\n",
       "         1.56216398e-01-0.j,  0.00000000e+00+0.j,  0.00000000e+00+0.j,\n",
       "         0.00000000e+00+0.j,  2.00000000e+00+0.j,  0.00000000e+00+0.j,\n",
       "         0.00000000e+00+0.j,  0.00000000e+00+0.j,  0.00000000e+00+0.j],\n",
       "       [ 0.00000000e+00+0.j,  0.00000000e+00+0.j,  0.00000000e+00+0.j,\n",
       "         0.00000000e+00+0.j, -1.21778011e-04+0.j,  0.00000000e+00+0.j,\n",
       "         2.00000000e+00+0.j,  0.00000000e+00+0.j,  2.00000000e+00+0.j,\n",
       "         0.00000000e+00+0.j,  0.00000000e+00+0.j,  0.00000000e+00+0.j],\n",
       "       [ 0.00000000e+00+0.j,  0.00000000e+00+0.j,  0.00000000e+00+0.j,\n",
       "         0.00000000e+00+0.j,  0.00000000e+00+0.j, -1.53282621e-01+0.j,\n",
       "         0.00000000e+00+0.j,  2.00000000e+00+0.j,  0.00000000e+00+0.j,\n",
       "         0.00000000e+00+0.j,  0.00000000e+00+0.j,  0.00000000e+00+0.j],\n",
       "       [-1.56216398e-01+0.j,  0.00000000e+00+0.j,  0.00000000e+00+0.j,\n",
       "         0.00000000e+00+0.j,  0.00000000e+00+0.j,  0.00000000e+00+0.j,\n",
       "         0.00000000e+00+0.j,  0.00000000e+00+0.j,  0.00000000e+00+0.j,\n",
       "         0.00000000e+00+0.j,  2.00000000e+00+0.j,  0.00000000e+00+0.j],\n",
       "       [ 0.00000000e+00+0.j,  1.21778011e-04+0.j,  0.00000000e+00+0.j,\n",
       "         0.00000000e+00+0.j,  0.00000000e+00+0.j,  0.00000000e+00+0.j,\n",
       "         0.00000000e+00+0.j,  0.00000000e+00+0.j,  0.00000000e+00+0.j,\n",
       "         2.00000000e+00+0.j,  0.00000000e+00+0.j,  2.00000000e+00+0.j],\n",
       "       [ 0.00000000e+00+0.j,  0.00000000e+00+0.j,  1.53282621e-01+0.j,\n",
       "         0.00000000e+00+0.j,  0.00000000e+00+0.j,  0.00000000e+00+0.j,\n",
       "         0.00000000e+00+0.j,  0.00000000e+00+0.j,  0.00000000e+00+0.j,\n",
       "         0.00000000e+00+0.j,  2.00000000e+00+0.j,  0.00000000e+00+0.j]])"
      ]
     },
     "execution_count": 442,
     "metadata": {},
     "output_type": "execute_result"
    }
   ],
   "source": [
    "mM.Hk(0,0)"
   ]
  },
  {
   "cell_type": "code",
   "execution_count": 446,
   "id": "eb4c621f",
   "metadata": {},
   "outputs": [
    {
     "data": {
      "text/plain": [
       "1023.5221512828799"
      ]
     },
     "execution_count": 446,
     "metadata": {},
     "output_type": "execute_result"
    }
   ],
   "source": [
    "Earr = np.linspace(-1.5,1.5,250)\n",
    "DOS = mM.DOS(Earr, k, sig=0.03)\n",
    "DOS[0]"
   ]
  },
  {
   "cell_type": "code",
   "execution_count": 447,
   "id": "7a53a222",
   "metadata": {},
   "outputs": [
    {
     "data": {
      "image/png": "[encoded data removed]",
      "text/plain": [
       "<Figure size 640x480 with 1 Axes>"
      ]
     },
     "metadata": {},
     "output_type": "display_data"
    }
   ],
   "source": [
    "plt.xlabel(\"E\", size='x-large')\n",
    "plt.ylabel(\"DOS\", size='x-large')\n",
    "plt.yticks(size='x-large')\n",
    "plt.xticks(size='x-large')\n",
    "plt.ticklabel_format(axis='y', style='sci', scilimits=(-3, 3))\n",
    "plt.xlim(-0.6, 0.6)\n",
    "plt.plot(Earr, DOS)\n",
    "\n",
    "#plt.vlines([emax, -emax], 0, 100, colors='black')\n",
    "#plt.legend()\n",
    "#plt.savefig(\"Pictures/DOS_SC.png\")\n",
    "plt.show()"
   ]
  },
  {
   "cell_type": "code",
   "execution_count": null,
   "id": "455e7ac3",
   "metadata": {},
   "outputs": [],
   "source": []
  }
 ],
 "metadata": {
  "kernelspec": {
   "display_name": "base",
   "language": "python",
   "name": "python3"
  },
  "language_info": {
   "codemirror_mode": {
    "name": "ipython",
    "version": 3
   },
   "file_extension": ".py",
   "mimetype": "text/x-python",
   "name": "python",
   "nbconvert_exporter": "python",
   "pygments_lexer": "ipython3",
   "version": "3.12.3"
  }
 },
 "nbformat": 4,
 "nbformat_minor": 5
}
