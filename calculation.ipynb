{
 "cells": [
  {
   "cell_type": "code",
   "execution_count": null,
   "id": "b965c721",
   "metadata": {},
   "outputs": [
    {
     "data": {
      "text/plain": [
       "<module 'model' from 'c:\\\\Users\\\\lucas\\\\Dropbox\\\\Projects\\\\Lieb Lattice\\\\src\\\\model.py'>"
      ]
     },
     "execution_count": 1,
     "metadata": {},
     "output_type": "execute_result"
    }
   ],
   "source": [
    "from importlib import reload\n",
    "import model\n",
    "reload(model)\n",
    "myModel = model.Model()\n",
    "H = myModel.Hamiltonian()"
   ]
  },
  {
   "cell_type": "code",
   "execution_count": null,
   "id": "793595f8",
   "metadata": {},
   "outputs": [],
   "source": [
    "# Calculating energies along \n",
    "import numpy as np\n",
    "import matplotlib.pyplot as plt\n",
    "\n",
    "k = np.linspace(-np.pi, np.pi, 100)\n",
    "energies = np.array([np.linalg.eigvalsh(H(k_i, 0)) for k_i in k])\n",
    "plt.plot(k, energies)"
   ]
  }
 ],
 "metadata": {
  "kernelspec": {
   "display_name": "base",
   "language": "python",
   "name": "python3"
  },
  "language_info": {
   "codemirror_mode": {
    "name": "ipython",
    "version": 3
   },
   "file_extension": ".py",
   "mimetype": "text/x-python",
   "name": "python",
   "nbconvert_exporter": "python",
   "pygments_lexer": "ipython3",
   "version": "3.9.16"
  }
 },
 "nbformat": 4,
 "nbformat_minor": 5
}
