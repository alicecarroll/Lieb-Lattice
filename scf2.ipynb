{
 "cells": [
  {
   "cell_type": "code",
   "execution_count": 1097,
   "id": "4c0facbb",
   "metadata": {},
   "outputs": [],
   "source": [
    "import numpy as np\n",
    "import os\n",
    "import matplotlib.pyplot as plt\n",
    "import numpy.linalg as lin\n",
    "\n",
    "from importlib import reload\n",
    "import AHMc\n",
    "reload(AHMc)\n",
    "#n=0\n",
    "date = '080825'"
   ]
  },
  {
   "cell_type": "code",
   "execution_count": 1098,
   "id": "bbefd5da",
   "metadata": {},
   "outputs": [
    {
     "data": {
      "text/plain": [
       "83"
      ]
     },
     "execution_count": 1098,
     "metadata": {},
     "output_type": "execute_result"
    }
   ],
   "source": [
    "k = np.linspace(0, 2*np.pi, 40, endpoint=False)\n",
    "#k = np.array([-np.pi, 0, np.pi, np.pi*2])\n",
    "n"
   ]
  },
  {
   "cell_type": "code",
   "execution_count": 1099,
   "id": "0a700214",
   "metadata": {},
   "outputs": [
    {
     "name": "stdout",
     "output_type": "stream",
     "text": [
      "0 1\n",
      "[[ 0. +0.j -2. +0.j  0. +0.j  0. +0.j  0. +0.j  0. +0.j  0. +0.j  0. +0.j\n",
      "   0. +0.j -3.5+0.j  0. +0.j  0. +0.j]\n",
      " [-2. +0.j  0. +0.j -2. +0.j  0. +0.j  0. +0.j  0. +0.j  0. +0.j  0. +0.j\n",
      "   0. +0.j  0. +0.j  0. +0.j  0. +0.j]\n",
      " [ 0. +0.j -2. +0.j  0. +0.j  0. +0.j  0. +0.j  0. +0.j  0. +0.j  0. +0.j\n",
      "   0. +0.j  0. +0.j  0. +0.j  3.5+0.j]\n",
      " [ 0. +0.j  0. +0.j  0. +0.j  0. +0.j -2. +0.j  0. +0.j  3.5+0.j  0. +0.j\n",
      "   0. +0.j  0. +0.j  0. +0.j  0. +0.j]\n",
      " [ 0. +0.j  0. +0.j  0. +0.j -2. +0.j  0. +0.j -2. +0.j  0. +0.j  0. +0.j\n",
      "   0. +0.j  0. +0.j  0. +0.j  0. +0.j]\n",
      " [ 0. +0.j  0. +0.j  0. +0.j  0. +0.j -2. +0.j  0. +0.j  0. +0.j  0. +0.j\n",
      "  -3.5+0.j  0. +0.j  0. +0.j  0. +0.j]\n",
      " [ 0. +0.j  0. +0.j  0. +0.j  3.5+0.j  0. +0.j  0. +0.j  0. +0.j  2. +0.j\n",
      "   0. +0.j  0. +0.j  0. +0.j  0. +0.j]\n",
      " [ 0. +0.j  0. +0.j  0. +0.j  0. +0.j  0. +0.j  0. +0.j  2. +0.j  0. +0.j\n",
      "   2. +0.j  0. +0.j  0. +0.j  0. +0.j]\n",
      " [ 0. +0.j  0. +0.j  0. +0.j  0. +0.j  0. +0.j -3.5+0.j  0. +0.j  2. +0.j\n",
      "   0. +0.j  0. +0.j  0. +0.j  0. +0.j]\n",
      " [-3.5+0.j  0. +0.j  0. +0.j  0. +0.j  0. +0.j  0. +0.j  0. +0.j  0. +0.j\n",
      "   0. +0.j  0. +0.j  2. +0.j  0. +0.j]\n",
      " [ 0. +0.j  0. +0.j  0. +0.j  0. +0.j  0. +0.j  0. +0.j  0. +0.j  0. +0.j\n",
      "   0. +0.j  2. +0.j  0. +0.j  2. +0.j]\n",
      " [ 0. +0.j  0. +0.j  3.5+0.j  0. +0.j  0. +0.j  0. +0.j  0. +0.j  0. +0.j\n",
      "   0. +0.j  0. +0.j  2. +0.j  0. +0.j]]\n",
      "1 0.0\n",
      "2 0.029284792887695015\n",
      "3 0.025368687952797817\n",
      "4 0.021919494849811993\n",
      "5 0.0189121887978656\n",
      "[[ 0.        +0.j -2.        +0.j  0.        +0.j  0.        +0.j\n",
      "   0.        +0.j  0.        +0.j  0.        +0.j  0.        +0.j\n",
      "   0.        +0.j -3.11248941+0.j  0.        +0.j  0.        +0.j]\n",
      " [-2.        +0.j  0.        +0.j -2.        +0.j  0.        +0.j\n",
      "   0.        +0.j  0.        +0.j  0.        +0.j  0.        +0.j\n",
      "   0.        +0.j  0.        +0.j -0.        +0.j  0.        +0.j]\n",
      " [ 0.        +0.j -2.        +0.j  0.        +0.j  0.        +0.j\n",
      "   0.        +0.j  0.        +0.j  0.        +0.j  0.        +0.j\n",
      "   0.        +0.j  0.        +0.j  0.        +0.j  3.13950587-0.j]\n",
      " [ 0.        +0.j  0.        +0.j  0.        +0.j  0.        +0.j\n",
      "  -2.        +0.j  0.        +0.j  3.11248941+0.j  0.        +0.j\n",
      "   0.        +0.j  0.        +0.j  0.        +0.j  0.        +0.j]\n",
      " [ 0.        +0.j  0.        +0.j  0.        +0.j -2.        +0.j\n",
      "   0.        +0.j -2.        +0.j  0.        +0.j  0.        +0.j\n",
      "   0.        +0.j  0.        +0.j  0.        +0.j  0.        +0.j]\n",
      " [ 0.        +0.j  0.        +0.j  0.        +0.j  0.        +0.j\n",
      "  -2.        +0.j  0.        +0.j  0.        +0.j  0.        +0.j\n",
      "  -3.13950587+0.j  0.        +0.j  0.        +0.j  0.        +0.j]\n",
      " [ 0.        +0.j  0.        +0.j  0.        +0.j  3.11248941+0.j\n",
      "   0.        +0.j  0.        +0.j  0.        +0.j  2.        +0.j\n",
      "   0.        +0.j  0.        +0.j  0.        +0.j  0.        +0.j]\n",
      " [ 0.        +0.j  0.        +0.j  0.        +0.j  0.        +0.j\n",
      "   0.        +0.j  0.        +0.j  2.        +0.j  0.        +0.j\n",
      "   2.        +0.j  0.        +0.j  0.        +0.j  0.        +0.j]\n",
      " [ 0.        +0.j  0.        +0.j  0.        +0.j  0.        +0.j\n",
      "   0.        +0.j -3.13950587+0.j  0.        +0.j  2.        +0.j\n",
      "   0.        +0.j  0.        +0.j  0.        +0.j  0.        +0.j]\n",
      " [-3.11248941+0.j  0.        +0.j  0.        +0.j  0.        +0.j\n",
      "   0.        +0.j  0.        +0.j  0.        +0.j  0.        +0.j\n",
      "   0.        +0.j  0.        +0.j  2.        +0.j  0.        +0.j]\n",
      " [ 0.        +0.j -0.        +0.j  0.        +0.j  0.        +0.j\n",
      "   0.        +0.j  0.        +0.j  0.        +0.j  0.        +0.j\n",
      "   0.        +0.j  2.        +0.j  0.        +0.j  2.        +0.j]\n",
      " [ 0.        +0.j  0.        +0.j  3.13950587-0.j  0.        +0.j\n",
      "   0.        +0.j  0.        +0.j  0.        +0.j  0.        +0.j\n",
      "   0.        +0.j  0.        +0.j  2.        +0.j  0.        +0.j]]\n",
      "6 0.016304659578446793\n",
      "7 0.014036650749213416\n",
      "8 0.01207347692864427\n",
      "9 0.010377077425347488\n",
      "10 0.008913330291871116\n",
      "11 0.007651886097795803\n",
      "12 0.006565923418639259\n",
      "13 0.005631862686260213\n",
      "14 0.004829063718625411\n",
      "15 0.004174985138344459\n",
      "16 0.003579361288540719\n",
      "17 0.0030681092582340096\n",
      "18 0.002629443259159339\n",
      "19 0.002253178389112197\n",
      "20 0.0019305257329614994\n",
      "21 0.0016539101467655784\n",
      "22 0.0014504870118191013\n",
      "23 0.001242904253850182\n",
      "24 0.001064967723819612\n",
      "25 0.0009124601214231125\n",
      "26 0.0007817595604686144\n",
      "27 0.0006697567312869754\n",
      "28 0.0005737832533132279\n",
      "29 0.0004915497989688974\n",
      "30 0.0004210927233751768\n",
      "31 0.0003607280793684067\n",
      "32 0.0003090120312184109\n",
      "33 0.00026470680241222073\n",
      "34 0.00022675140255619955\n",
      "35 0.0001942364763050603\n",
      "36 0.00016638270381080054\n",
      "37 0.0001425222584227443\n",
      "38 0.00012208289420040058\n"
     ]
    }
   ],
   "source": [
    "n+=1\n",
    "da=7\n",
    "db=0\n",
    "dc=-da\n",
    "na=0 ######, Del0Ac = da, Del0Bc=db, Del0Cc= dc\n",
    "nb=0\n",
    "nc=na\n",
    "mM = AHMc.Model(Del0A = da, Del0B=db, Del0C= dc, nA=na, nB=nb, nC=nc, U=14, UB=0, muB=0, mu=0, t=1, inhomp=True, inhomi=True)\n",
    "alpha=0.8\n",
    "vals = mM.Deltra(k, Nmax=50, Nmin=3, alpha=alpha)\n",
    "#vals=mM.DeltaN(k)"
   ]
  },
  {
   "cell_type": "code",
   "execution_count": 1100,
   "id": "8d10f45e",
   "metadata": {},
   "outputs": [
    {
     "data": {
      "text/plain": [
       "array([[ 7.        +0.j,  7.        +0.j,  6.79488837+0.j,\n",
       "         6.61478648+0.j,  6.46288722+0.j,  6.33449194+0.j,\n",
       "         6.22497882+0.j,  6.13206444+0.j,  6.05311609+0.j,\n",
       "         5.98594825+0.j,  5.92873945+0.j,  5.87996628+0.j,\n",
       "         5.83835048+0.j,  5.80281651+0.j,  5.77245707+0.j,\n",
       "         5.74480459+0.j,  5.72116113+0.j,  5.70093736+0.j,\n",
       "         5.68363277+0.j,  5.66882166+0.j,  5.65614161+0.j,\n",
       "         5.6452837 +0.j,  5.63511321+0.j,  5.62640658+0.j,\n",
       "         5.61895204+0.j,  5.61256872+0.j,  5.60710213+0.j,\n",
       "         5.60242018+0.j,  5.59840995+0.j,  5.59497485+0.j,\n",
       "         5.59203224+0.j,  5.58951139+0.j,  5.58735176+0.j,\n",
       "         5.58550155+0.j,  5.58391637+0.j,  5.58255823+0.j,\n",
       "         5.58139459+0.j,  5.58039758+0.j,  5.57954333+0.j,\n",
       "         5.5788114 +0.j,  5.57818425+0.j],\n",
       "       [ 0.        +0.j,  0.        +0.j,  0.        +0.j,\n",
       "         0.        +0.j,  0.        +0.j,  0.        +0.j,\n",
       "         0.        +0.j,  0.        +0.j,  0.        +0.j,\n",
       "         0.        +0.j,  0.        +0.j,  0.        +0.j,\n",
       "         0.        +0.j,  0.        +0.j,  0.        +0.j,\n",
       "         0.        +0.j,  0.        +0.j,  0.        +0.j,\n",
       "         0.        +0.j,  0.        +0.j,  0.        +0.j,\n",
       "         0.        +0.j,  0.        +0.j,  0.        +0.j,\n",
       "         0.        +0.j,  0.        +0.j,  0.        +0.j,\n",
       "         0.        +0.j,  0.        +0.j,  0.        +0.j,\n",
       "         0.        +0.j,  0.        +0.j,  0.        +0.j,\n",
       "         0.        +0.j,  0.        +0.j,  0.        +0.j,\n",
       "         0.        +0.j,  0.        +0.j,  0.        +0.j,\n",
       "         0.        +0.j,  0.        +0.j],\n",
       "       [-7.        +0.j, -7.        +0.j, -6.79512459+0.j,\n",
       "        -6.63082818+0.j, -6.49271766+0.j, -6.37639084+0.j,\n",
       "        -6.27901173+0.j, -6.19673286+0.j, -6.12712079+0.j,\n",
       "        -6.06815761+0.j, -6.01816423+0.j, -5.97573917+0.j,\n",
       "        -5.93970945+0.j, -5.90909092+0.j, -5.88305606+0.j,\n",
       "        -5.86257625+0.j, -5.84513628+0.j, -5.83027952+0.j,\n",
       "        -5.81761932+0.j, -5.80682793+0.j, -5.79762726+0.j,\n",
       "        -5.78978115+0.j, -5.78393841+0.j, -5.77894548+0.j,\n",
       "        -5.7746782 +0.j, -5.77103071+0.j, -5.76791266+0.j,\n",
       "        -5.76524697+0.j, -5.76296784+0.j, -5.76101907+0.j,\n",
       "        -5.75935267+0.j, -5.75792766+0.j, -5.75670899+0.j,\n",
       "        -5.75566675+0.j, -5.75477536+0.j, -5.75401296+0.j,\n",
       "        -5.75336085+0.j, -5.75280306+0.j, -5.75232595+0.j,\n",
       "        -5.75191782+0.j, -5.75156869+0.j],\n",
       "       [ 7.        +0.j,  7.        +0.j,  6.79488837+0.j,\n",
       "         6.61478648+0.j,  6.46288722+0.j,  6.33449194+0.j,\n",
       "         6.22497882+0.j,  6.13206444+0.j,  6.05311609+0.j,\n",
       "         5.98594825+0.j,  5.92873945+0.j,  5.87996628+0.j,\n",
       "         5.83835048+0.j,  5.80281651+0.j,  5.77245707+0.j,\n",
       "         5.74480459+0.j,  5.72116113+0.j,  5.70093736+0.j,\n",
       "         5.68363277+0.j,  5.66882166+0.j,  5.65614161+0.j,\n",
       "         5.6452837 +0.j,  5.63511321+0.j,  5.62640658+0.j,\n",
       "         5.61895204+0.j,  5.61256872+0.j,  5.60710213+0.j,\n",
       "         5.60242018+0.j,  5.59840995+0.j,  5.59497485+0.j,\n",
       "         5.59203224+0.j,  5.58951139+0.j,  5.58735176+0.j,\n",
       "         5.58550155+0.j,  5.58391637+0.j,  5.58255823+0.j,\n",
       "         5.58139459+0.j,  5.58039758+0.j,  5.57954333+0.j,\n",
       "         5.5788114 +0.j,  5.57818425+0.j],\n",
       "       [ 0.        +0.j,  0.        +0.j,  0.        +0.j,\n",
       "         0.        +0.j,  0.        +0.j,  0.        +0.j,\n",
       "         0.        +0.j,  0.        +0.j,  0.        +0.j,\n",
       "         0.        +0.j,  0.        +0.j,  0.        +0.j,\n",
       "         0.        +0.j,  0.        +0.j,  0.        +0.j,\n",
       "         0.        +0.j,  0.        +0.j,  0.        +0.j,\n",
       "         0.        +0.j,  0.        +0.j,  0.        +0.j,\n",
       "         0.        +0.j,  0.        +0.j,  0.        +0.j,\n",
       "         0.        +0.j,  0.        +0.j,  0.        +0.j,\n",
       "         0.        +0.j,  0.        +0.j,  0.        +0.j,\n",
       "         0.        +0.j,  0.        +0.j,  0.        +0.j,\n",
       "         0.        +0.j,  0.        +0.j,  0.        +0.j,\n",
       "         0.        +0.j,  0.        +0.j,  0.        +0.j,\n",
       "         0.        +0.j,  0.        +0.j],\n",
       "       [-7.        +0.j, -7.        +0.j, -6.79512459+0.j,\n",
       "        -6.63082818+0.j, -6.49271766+0.j, -6.37639084+0.j,\n",
       "        -6.27901173+0.j, -6.19673286+0.j, -6.12712079+0.j,\n",
       "        -6.06815761+0.j, -6.01816423+0.j, -5.97573917+0.j,\n",
       "        -5.93970945+0.j, -5.90909092+0.j, -5.88305606+0.j,\n",
       "        -5.86257625+0.j, -5.84513628+0.j, -5.83027952+0.j,\n",
       "        -5.81761932+0.j, -5.80682793+0.j, -5.79762726+0.j,\n",
       "        -5.78978115+0.j, -5.78393841+0.j, -5.77894548+0.j,\n",
       "        -5.7746782 +0.j, -5.77103071+0.j, -5.76791266+0.j,\n",
       "        -5.76524697+0.j, -5.76296784+0.j, -5.76101907+0.j,\n",
       "        -5.75935267+0.j, -5.75792766+0.j, -5.75670899+0.j,\n",
       "        -5.75566675+0.j, -5.75477536+0.j, -5.75401296+0.j,\n",
       "        -5.75336085+0.j, -5.75280306+0.j, -5.75232595+0.j,\n",
       "        -5.75191782+0.j, -5.75156869+0.j]])"
      ]
     },
     "execution_count": 1100,
     "metadata": {},
     "output_type": "execute_result"
    }
   ],
   "source": [
    "vals[0]#[:,-2]/2"
   ]
  },
  {
   "cell_type": "code",
   "execution_count": 1101,
   "id": "e388a3b5",
   "metadata": {},
   "outputs": [
    {
     "data": {
      "text/plain": [
       "array([[ 0.        +0.j, -2.        +0.j,  0.        +0.j,\n",
       "         0.        +0.j,  0.        +0.j,  0.        +0.j,\n",
       "         0.        +0.j,  0.        +0.j,  0.        +0.j,\n",
       "        -2.78909213+0.j,  0.        +0.j,  0.        +0.j],\n",
       "       [-2.        +0.j,  0.        +0.j, -2.        +0.j,\n",
       "         0.        +0.j,  0.        +0.j,  0.        +0.j,\n",
       "         0.        +0.j,  0.        +0.j,  0.        +0.j,\n",
       "         0.        +0.j, -0.        +0.j,  0.        +0.j],\n",
       "       [ 0.        +0.j, -2.        +0.j,  0.        +0.j,\n",
       "         0.        +0.j,  0.        +0.j,  0.        +0.j,\n",
       "         0.        +0.j,  0.        +0.j,  0.        +0.j,\n",
       "         0.        +0.j,  0.        +0.j,  2.87578435-0.j],\n",
       "       [ 0.        +0.j,  0.        +0.j,  0.        +0.j,\n",
       "         0.        +0.j, -2.        +0.j,  0.        +0.j,\n",
       "         2.78909213+0.j,  0.        +0.j,  0.        +0.j,\n",
       "         0.        +0.j,  0.        +0.j,  0.        +0.j],\n",
       "       [ 0.        +0.j,  0.        +0.j,  0.        +0.j,\n",
       "        -2.        +0.j,  0.        +0.j, -2.        +0.j,\n",
       "         0.        +0.j,  0.        +0.j,  0.        +0.j,\n",
       "         0.        +0.j,  0.        +0.j,  0.        +0.j],\n",
       "       [ 0.        +0.j,  0.        +0.j,  0.        +0.j,\n",
       "         0.        +0.j, -2.        +0.j,  0.        +0.j,\n",
       "         0.        +0.j,  0.        +0.j, -2.87578435+0.j,\n",
       "         0.        +0.j,  0.        +0.j,  0.        +0.j],\n",
       "       [ 0.        +0.j,  0.        +0.j,  0.        +0.j,\n",
       "         2.78909213+0.j,  0.        +0.j,  0.        +0.j,\n",
       "         0.        +0.j,  2.        +0.j,  0.        +0.j,\n",
       "         0.        +0.j,  0.        +0.j,  0.        +0.j],\n",
       "       [ 0.        +0.j,  0.        +0.j,  0.        +0.j,\n",
       "         0.        +0.j,  0.        +0.j,  0.        +0.j,\n",
       "         2.        +0.j,  0.        +0.j,  2.        +0.j,\n",
       "         0.        +0.j,  0.        +0.j,  0.        +0.j],\n",
       "       [ 0.        +0.j,  0.        +0.j,  0.        +0.j,\n",
       "         0.        +0.j,  0.        +0.j, -2.87578435+0.j,\n",
       "         0.        +0.j,  2.        +0.j,  0.        +0.j,\n",
       "         0.        +0.j,  0.        +0.j,  0.        +0.j],\n",
       "       [-2.78909213+0.j,  0.        +0.j,  0.        +0.j,\n",
       "         0.        +0.j,  0.        +0.j,  0.        +0.j,\n",
       "         0.        +0.j,  0.        +0.j,  0.        +0.j,\n",
       "         0.        +0.j,  2.        +0.j,  0.        +0.j],\n",
       "       [ 0.        +0.j, -0.        +0.j,  0.        +0.j,\n",
       "         0.        +0.j,  0.        +0.j,  0.        +0.j,\n",
       "         0.        +0.j,  0.        +0.j,  0.        +0.j,\n",
       "         2.        +0.j,  0.        +0.j,  2.        +0.j],\n",
       "       [ 0.        +0.j,  0.        +0.j,  2.87578435-0.j,\n",
       "         0.        +0.j,  0.        +0.j,  0.        +0.j,\n",
       "         0.        +0.j,  0.        +0.j,  0.        +0.j,\n",
       "         0.        +0.j,  2.        +0.j,  0.        +0.j]])"
      ]
     },
     "execution_count": 1101,
     "metadata": {},
     "output_type": "execute_result"
    }
   ],
   "source": [
    "mM.Hk(0,0)"
   ]
  },
  {
   "cell_type": "code",
   "execution_count": 1102,
   "id": "b55f25e6",
   "metadata": {},
   "outputs": [
    {
     "data": {
      "text/plain": [
       "(-2.875784345740091+0j)"
      ]
     },
     "execution_count": 1102,
     "metadata": {},
     "output_type": "execute_result"
    }
   ],
   "source": [
    "mM.Hk(0,0)[5,8]#==np.conjugate(mM.Hk(0,0)[11,2])"
   ]
  },
  {
   "cell_type": "code",
   "execution_count": 1103,
   "id": "10b0ab55",
   "metadata": {},
   "outputs": [
    {
     "data": {
      "text/plain": [
       "(-2.875784345740091+0j)"
      ]
     },
     "execution_count": 1103,
     "metadata": {},
     "output_type": "execute_result"
    }
   ],
   "source": [
    "mM.Hk(0,0)[8,5]"
   ]
  },
  {
   "cell_type": "code",
   "execution_count": 1104,
   "id": "be8eee4d",
   "metadata": {},
   "outputs": [
    {
     "data": {
      "text/plain": [
       "array([[ True,  True,  True,  True,  True,  True,  True,  True,  True,\n",
       "         True,  True,  True],\n",
       "       [ True,  True,  True,  True,  True,  True,  True,  True,  True,\n",
       "         True,  True,  True],\n",
       "       [ True,  True,  True,  True,  True,  True,  True,  True,  True,\n",
       "         True,  True,  True],\n",
       "       [ True,  True,  True,  True,  True,  True,  True,  True,  True,\n",
       "         True,  True,  True],\n",
       "       [ True,  True,  True,  True,  True,  True,  True,  True,  True,\n",
       "         True,  True,  True],\n",
       "       [ True,  True,  True,  True,  True,  True,  True,  True,  True,\n",
       "         True,  True,  True],\n",
       "       [ True,  True,  True,  True,  True,  True,  True,  True,  True,\n",
       "         True,  True,  True],\n",
       "       [ True,  True,  True,  True,  True,  True,  True,  True,  True,\n",
       "         True,  True,  True],\n",
       "       [ True,  True,  True,  True,  True,  True,  True,  True,  True,\n",
       "         True,  True,  True],\n",
       "       [ True,  True,  True,  True,  True,  True,  True,  True,  True,\n",
       "         True,  True,  True],\n",
       "       [ True,  True,  True,  True,  True,  True,  True,  True,  True,\n",
       "         True,  True,  True],\n",
       "       [ True,  True,  True,  True,  True,  True,  True,  True,  True,\n",
       "         True,  True,  True]])"
      ]
     },
     "execution_count": 1104,
     "metadata": {},
     "output_type": "execute_result"
    }
   ],
   "source": [
    "np.conjugate(mM.Hk(0,0).T)==mM.Hk(0,0)"
   ]
  },
  {
   "cell_type": "code",
   "execution_count": 1105,
   "id": "4ecaea1f",
   "metadata": {},
   "outputs": [
    {
     "data": {
      "text/plain": [
       "array([[0.+0.j, 0.+0.j, 0.+0.j, 0.+0.j, 0.+0.j, 0.+0.j],\n",
       "       [0.+0.j, 0.+0.j, 0.+0.j, 0.+0.j, 0.+0.j, 0.+0.j],\n",
       "       [0.+0.j, 0.+0.j, 0.+0.j, 0.+0.j, 0.+0.j, 0.+0.j]])"
      ]
     },
     "execution_count": 1105,
     "metadata": {},
     "output_type": "execute_result"
    }
   ],
   "source": [
    "vals[2][0:6,24:30]"
   ]
  },
  {
   "cell_type": "code",
   "execution_count": 1106,
   "id": "be1d37b8",
   "metadata": {},
   "outputs": [],
   "source": [
    "dels = vals[0]\n",
    "nus = vals[2]"
   ]
  },
  {
   "cell_type": "code",
   "execution_count": 1107,
   "id": "fc25b97a",
   "metadata": {},
   "outputs": [
    {
     "data": {
      "text/plain": [
       "array([0.00019424, 0.00016638, 0.00014252, 0.00012208, 0.00010457])"
      ]
     },
     "execution_count": 1107,
     "metadata": {},
     "output_type": "execute_result"
    }
   ],
   "source": [
    "vals[1][-5:]"
   ]
  },
  {
   "cell_type": "code",
   "execution_count": 1108,
   "id": "aa1c2d70",
   "metadata": {},
   "outputs": [
    {
     "data": {
      "text/plain": [
       "array([[ 5.58139459+0.j,  5.58039758+0.j,  5.57954333+0.j,\n",
       "         5.5788114 +0.j,  5.57818425+0.j],\n",
       "       [ 0.        +0.j,  0.        +0.j,  0.        +0.j,\n",
       "         0.        +0.j,  0.        +0.j],\n",
       "       [-5.75336085+0.j, -5.75280306+0.j, -5.75232595+0.j,\n",
       "        -5.75191782+0.j, -5.75156869+0.j],\n",
       "       [ 5.58139459+0.j,  5.58039758+0.j,  5.57954333+0.j,\n",
       "         5.5788114 +0.j,  5.57818425+0.j],\n",
       "       [ 0.        +0.j,  0.        +0.j,  0.        +0.j,\n",
       "         0.        +0.j,  0.        +0.j],\n",
       "       [-5.75336085+0.j, -5.75280306+0.j, -5.75232595+0.j,\n",
       "        -5.75191782+0.j, -5.75156869+0.j]])"
      ]
     },
     "execution_count": 1108,
     "metadata": {},
     "output_type": "execute_result"
    }
   ],
   "source": [
    "dels[:,-5:]"
   ]
  },
  {
   "cell_type": "code",
   "execution_count": 1109,
   "id": "9ff8fc20",
   "metadata": {},
   "outputs": [],
   "source": [
    "s1 = [np.sum(nus[:,i]) for i in range(np.shape(nus)[1])]\n"
   ]
  },
  {
   "cell_type": "code",
   "execution_count": 1110,
   "id": "9c3a66a4",
   "metadata": {},
   "outputs": [],
   "source": [
    "fol = f'calc{date}_{n}'\n",
    "newpath = r\"C:\\Users\\atsch\\Desktop\\MasterVorlesungen\\Sommer25\\Lieb-Lattice\\Pictures\\scf2\\'\"+fol\n",
    "\n",
    "if not os.path.exists(newpath):\n",
    "    os.makedirs(newpath)\n",
    "\n",
    "filename = \"parameters.txt\"\n",
    "\n",
    "text = os.path.join(newpath, filename)\n",
    "\n",
    "with open(text, \"w\") as file:\n",
    "    file.write(f\"mM = AHM.Model(Del0A, Del0B, Del0C= {dels[:,0]}, nA, nB, nC={nus[:,0]}, U={mM.U}, UB={mM.UB}, mu={mM.mu}, muB={mM.muB}, t={mM.t}, inhomp={mM.inhomp}, inhomi={mM.inhomi})\\n alpha={alpha}\\n dels: {dels}\\nnus: {nus}\")\n",
    "    file.close"
   ]
  },
  {
   "cell_type": "code",
   "execution_count": 1111,
   "id": "5c992eba",
   "metadata": {},
   "outputs": [
    {
     "name": "stderr",
     "output_type": "stream",
     "text": [
      "c:\\Users\\atsch\\anaconda3\\Lib\\site-packages\\matplotlib\\cbook.py:1699: ComplexWarning: Casting complex values to real discards the imaginary part\n",
      "  return math.isfinite(val)\n",
      "c:\\Users\\atsch\\anaconda3\\Lib\\site-packages\\matplotlib\\cbook.py:1345: ComplexWarning: Casting complex values to real discards the imaginary part\n",
      "  return np.asarray(x, float)\n"
     ]
    },
    {
     "data": {
      "image/png": "[encoded data removed]",
      "text/plain": [
       "<Figure size 800x600 with 1 Axes>"
      ]
     },
     "metadata": {},
     "output_type": "display_data"
    }
   ],
   "source": [
    "plt.figure(figsize=(8,6))\n",
    "plt.xlabel('Iteration', size='x-large')\n",
    "plt.ylabel(r'$\\nu$', size='x-large')\n",
    "plt.xticks(size='x-large')\n",
    "plt.yticks(size='x-large')\n",
    "#plt.ylim(0,0.35)\n",
    "\n",
    "plt.plot(np.arange(len(s1)), s1, label = r'no hopping')\n",
    "\n",
    "\n",
    "#plt.legend()\n",
    "plt.savefig(newpath+\"//nu.png\")\n",
    "plt.show()"
   ]
  },
  {
   "cell_type": "code",
   "execution_count": 1112,
   "id": "bd572b45",
   "metadata": {},
   "outputs": [
    {
     "data": {
      "image/png": "[encoded data removed]",
      "text/plain": [
       "<Figure size 800x600 with 1 Axes>"
      ]
     },
     "metadata": {},
     "output_type": "display_data"
    }
   ],
   "source": [
    "plt.figure(figsize=(8,6))\n",
    "plt.xlabel('Iteration', size='x-large')\n",
    "plt.ylabel(r'$\\Delta$', size='x-large')\n",
    "plt.xticks(size='x-large')\n",
    "plt.yticks(size='x-large')\n",
    "#plt.ylim(0,0.35)\n",
    "\n",
    "plt.plot(np.arange(len(dels[0])), dels[0], label = r'$\\Delta_A$')\n",
    "plt.plot(np.arange(len(dels[0])), dels[1], label = r'$\\Delta_B$')\n",
    "plt.plot(np.arange(len(dels[0])), dels[2], label = r'$\\Delta_C$')\n",
    "\n",
    "\n",
    "plt.legend()\n",
    "plt.savefig(newpath+\"//dels.png\")\n",
    "\n",
    "plt.show()"
   ]
  },
  {
   "cell_type": "code",
   "execution_count": 1113,
   "id": "b191e9bf",
   "metadata": {},
   "outputs": [],
   "source": [
    "#da, db, dc = dels[:,-1]\n",
    "#na, nb, nc = nus[:,-1]\n",
    "#mM = AHM.Model(Del0A = da, Del0B=db, Del0C= dc, nA=na, nB=nb, nC=nc,mu=0, U=3, t=1, inhomp=False, inhomi=True)\n",
    "H = mM.HBdG()\n",
    "k = np.linspace(0, 2*np.pi, 100)\n",
    "\n",
    "k1 = np.ones(100)\n",
    "k0 = np.zeros(100)\n",
    "path = np.concatenate((k, k, k*np.sqrt(2)))\n",
    "kx = np.concatenate((k,np.pi*2*k1, k[::-1]))\n",
    "ky = np.concatenate((k0, k, k[::-1]))\n",
    "\n",
    "p = [i for i in range(np.shape(path)[0])]\n",
    "np.shape(p)\n",
    "energies = mM.solvHam(kx, ky)\n",
    "\n",
    "np.shape(energies)\n",
    "emax = np.amax(energies)\n",
    "emax = emax+0.1*emax"
   ]
  },
  {
   "cell_type": "code",
   "execution_count": 1114,
   "id": "0a89784e",
   "metadata": {},
   "outputs": [
    {
     "data": {
      "text/plain": [
       "array([[-4.03543521, -4.03543521, -3.97038597, ...,  3.97038597,\n",
       "         4.03543521,  4.03543521],\n",
       "       [-4.03528991, -4.03528991, -3.96952323, ...,  3.96952323,\n",
       "         4.03528991,  4.03528991],\n",
       "       [-4.0348547 , -4.0348547 , -3.96693645, ...,  3.96693645,\n",
       "         4.0348547 ,  4.0348547 ],\n",
       "       ...,\n",
       "       [-4.0314353 , -4.0314353 , -3.96634238, ...,  3.96634238,\n",
       "         4.0314353 ,  4.0314353 ],\n",
       "       [-4.0344346 , -4.0344346 , -3.96937444, ...,  3.96937444,\n",
       "         4.0344346 ,  4.0344346 ],\n",
       "       [-4.03543521, -4.03543521, -3.97038597, ...,  3.97038597,\n",
       "         4.03543521,  4.03543521]])"
      ]
     },
     "execution_count": 1114,
     "metadata": {},
     "output_type": "execute_result"
    }
   ],
   "source": [
    "energies.T"
   ]
  },
  {
   "cell_type": "code",
   "execution_count": 1115,
   "id": "4765b85c",
   "metadata": {},
   "outputs": [],
   "source": [
    "np.savetxt(newpath +\"//dels.txt\", dels, delimiter=\",\")\n",
    "np.savetxt(newpath +\"//nus.txt\", nus, delimiter=\",\")\n",
    "np.savetxt(newpath +\"//energies.txt\", energies, delimiter=\",\")"
   ]
  },
  {
   "cell_type": "code",
   "execution_count": 1116,
   "id": "18686a1c",
   "metadata": {},
   "outputs": [
    {
     "data": {
      "image/png": "[encoded data removed]",
      "text/plain": [
       "<Figure size 800x600 with 1 Axes>"
      ]
     },
     "metadata": {},
     "output_type": "display_data"
    }
   ],
   "source": [
    "plt.figure(figsize=(8,6))\n",
    "plt.xlabel(\"$(k_x a,k_y a)$\", size='x-large')\n",
    "plt.ylabel(\"E\", size='x-large')\n",
    "plt.yticks(size='x-large')\n",
    "plt.xticks(ticks= [0, 100, 200, 299], labels=[r\"$\\Gamma$\",r\"X\",r\"M\", r\"$\\Gamma$\"], size='x-large')\n",
    "#plt.ylim((-0.5, 0.5))\n",
    "\n",
    "for i in energies:\n",
    "    plt.plot(p, i, color='black')\n",
    "#for i in energies2:\n",
    "#    plt.plot(p, i, color='green', linestyle='dashdot')\n",
    "#plt.plot(p, energies4[0], color='black', label=r'$\\Delta_0=0.5$')\n",
    "#plt.plot(p, energies2[0], color='green', linestyle='dashdot', label=r'$\\Delta_0=1$')\n",
    "\n",
    "plt.vlines([0, 99, 199, 299], [-emax, -emax, -emax, -emax], [emax, emax, emax, emax], colors= 'grey', linestyles='--')\n",
    "#plt.vlines(250, -2, 2)\n",
    "#plt.legend(fontsize='x-large')\n",
    "#plt.savefig(\"Pictures/ESCpath.png\")\n",
    "plt.savefig(newpath+\"//bands.png\")\n",
    "\n",
    "plt.show()"
   ]
  },
  {
   "cell_type": "code",
   "execution_count": 1095,
   "id": "e7ab1e8b",
   "metadata": {},
   "outputs": [
    {
     "data": {
      "text/plain": [
       "array([[ 0.        +0.00000000e+00j, -2.        +0.00000000e+00j,\n",
       "         0.        +0.00000000e+00j,  0.        +0.00000000e+00j,\n",
       "         0.        +0.00000000e+00j,  0.        +0.00000000e+00j,\n",
       "         0.        +0.00000000e+00j,  0.        +0.00000000e+00j,\n",
       "         0.        +0.00000000e+00j,  2.80712819+1.17770650e-12j,\n",
       "         0.        +0.00000000e+00j,  0.        +0.00000000e+00j],\n",
       "       [-2.        +0.00000000e+00j,  0.        +0.00000000e+00j,\n",
       "        -2.        +0.00000000e+00j,  0.        +0.00000000e+00j,\n",
       "         0.        +0.00000000e+00j,  0.        +0.00000000e+00j,\n",
       "         0.        +0.00000000e+00j,  0.        +0.00000000e+00j,\n",
       "         0.        +0.00000000e+00j,  0.        +0.00000000e+00j,\n",
       "        -0.        +0.00000000e+00j,  0.        +0.00000000e+00j],\n",
       "       [ 0.        +0.00000000e+00j, -2.        +0.00000000e+00j,\n",
       "         0.        +0.00000000e+00j,  0.        +0.00000000e+00j,\n",
       "         0.        +0.00000000e+00j,  0.        +0.00000000e+00j,\n",
       "         0.        +0.00000000e+00j,  0.        +0.00000000e+00j,\n",
       "         0.        +0.00000000e+00j,  0.        +0.00000000e+00j,\n",
       "         0.        +0.00000000e+00j,  2.807135  -1.18881099e-12j],\n",
       "       [ 0.        +0.00000000e+00j,  0.        +0.00000000e+00j,\n",
       "         0.        +0.00000000e+00j,  0.        +0.00000000e+00j,\n",
       "        -2.        +0.00000000e+00j,  0.        +0.00000000e+00j,\n",
       "        -2.80712819-1.17770650e-12j,  0.        +0.00000000e+00j,\n",
       "         0.        +0.00000000e+00j,  0.        +0.00000000e+00j,\n",
       "         0.        +0.00000000e+00j,  0.        +0.00000000e+00j],\n",
       "       [ 0.        +0.00000000e+00j,  0.        +0.00000000e+00j,\n",
       "         0.        +0.00000000e+00j, -2.        +0.00000000e+00j,\n",
       "         0.        +0.00000000e+00j, -2.        +0.00000000e+00j,\n",
       "         0.        +0.00000000e+00j,  0.        +0.00000000e+00j,\n",
       "         0.        +0.00000000e+00j,  0.        +0.00000000e+00j,\n",
       "         0.        +0.00000000e+00j,  0.        +0.00000000e+00j],\n",
       "       [ 0.        +0.00000000e+00j,  0.        +0.00000000e+00j,\n",
       "         0.        +0.00000000e+00j,  0.        +0.00000000e+00j,\n",
       "        -2.        +0.00000000e+00j,  0.        +0.00000000e+00j,\n",
       "         0.        +0.00000000e+00j,  0.        +0.00000000e+00j,\n",
       "        -2.807135  +1.18881099e-12j,  0.        +0.00000000e+00j,\n",
       "         0.        +0.00000000e+00j,  0.        +0.00000000e+00j],\n",
       "       [ 0.        +0.00000000e+00j,  0.        +0.00000000e+00j,\n",
       "         0.        +0.00000000e+00j, -2.80712819+1.17770650e-12j,\n",
       "         0.        +0.00000000e+00j,  0.        +0.00000000e+00j,\n",
       "         0.        +0.00000000e+00j,  2.        +0.00000000e+00j,\n",
       "         0.        +0.00000000e+00j,  0.        +0.00000000e+00j,\n",
       "         0.        +0.00000000e+00j,  0.        +0.00000000e+00j],\n",
       "       [ 0.        +0.00000000e+00j,  0.        +0.00000000e+00j,\n",
       "         0.        +0.00000000e+00j,  0.        +0.00000000e+00j,\n",
       "         0.        +0.00000000e+00j,  0.        +0.00000000e+00j,\n",
       "         2.        +0.00000000e+00j,  0.        +0.00000000e+00j,\n",
       "         2.        +0.00000000e+00j,  0.        +0.00000000e+00j,\n",
       "         0.        +0.00000000e+00j,  0.        +0.00000000e+00j],\n",
       "       [ 0.        +0.00000000e+00j,  0.        +0.00000000e+00j,\n",
       "         0.        +0.00000000e+00j,  0.        +0.00000000e+00j,\n",
       "         0.        +0.00000000e+00j, -2.807135  -1.18881099e-12j,\n",
       "         0.        +0.00000000e+00j,  2.        +0.00000000e+00j,\n",
       "         0.        +0.00000000e+00j,  0.        +0.00000000e+00j,\n",
       "         0.        +0.00000000e+00j,  0.        +0.00000000e+00j],\n",
       "       [ 2.80712819-1.17770650e-12j,  0.        +0.00000000e+00j,\n",
       "         0.        +0.00000000e+00j,  0.        +0.00000000e+00j,\n",
       "         0.        +0.00000000e+00j,  0.        +0.00000000e+00j,\n",
       "         0.        +0.00000000e+00j,  0.        +0.00000000e+00j,\n",
       "         0.        +0.00000000e+00j,  0.        +0.00000000e+00j,\n",
       "         2.        +0.00000000e+00j,  0.        +0.00000000e+00j],\n",
       "       [ 0.        +0.00000000e+00j, -0.        +0.00000000e+00j,\n",
       "         0.        +0.00000000e+00j,  0.        +0.00000000e+00j,\n",
       "         0.        +0.00000000e+00j,  0.        +0.00000000e+00j,\n",
       "         0.        +0.00000000e+00j,  0.        +0.00000000e+00j,\n",
       "         0.        +0.00000000e+00j,  2.        +0.00000000e+00j,\n",
       "         0.        +0.00000000e+00j,  2.        +0.00000000e+00j],\n",
       "       [ 0.        +0.00000000e+00j,  0.        +0.00000000e+00j,\n",
       "         2.807135  +1.18881099e-12j,  0.        +0.00000000e+00j,\n",
       "         0.        +0.00000000e+00j,  0.        +0.00000000e+00j,\n",
       "         0.        +0.00000000e+00j,  0.        +0.00000000e+00j,\n",
       "         0.        +0.00000000e+00j,  0.        +0.00000000e+00j,\n",
       "         2.        +0.00000000e+00j,  0.        +0.00000000e+00j]])"
      ]
     },
     "execution_count": 1095,
     "metadata": {},
     "output_type": "execute_result"
    }
   ],
   "source": [
    "mM.Hk(0,0)"
   ]
  },
  {
   "cell_type": "code",
   "execution_count": 1096,
   "id": "87fb43ff",
   "metadata": {},
   "outputs": [
    {
     "data": {
      "text/plain": [
       "array([[ 0.00000000e+00+0.00000000e+00j, -1.22464680e-16+0.00000000e+00j,\n",
       "         0.00000000e+00+0.00000000e+00j,  0.00000000e+00+0.00000000e+00j,\n",
       "         0.00000000e+00+0.00000000e+00j,  0.00000000e+00+0.00000000e+00j,\n",
       "         0.00000000e+00+0.00000000e+00j,  0.00000000e+00+0.00000000e+00j,\n",
       "         0.00000000e+00+0.00000000e+00j,  2.80712819e+00+1.17770650e-12j,\n",
       "         0.00000000e+00+0.00000000e+00j,  0.00000000e+00+0.00000000e+00j],\n",
       "       [-1.22464680e-16+0.00000000e+00j,  0.00000000e+00+0.00000000e+00j,\n",
       "        -1.22464680e-16+0.00000000e+00j,  0.00000000e+00+0.00000000e+00j,\n",
       "         0.00000000e+00+0.00000000e+00j,  0.00000000e+00+0.00000000e+00j,\n",
       "         0.00000000e+00+0.00000000e+00j,  0.00000000e+00+0.00000000e+00j,\n",
       "         0.00000000e+00+0.00000000e+00j,  0.00000000e+00+0.00000000e+00j,\n",
       "        -0.00000000e+00+0.00000000e+00j,  0.00000000e+00+0.00000000e+00j],\n",
       "       [ 0.00000000e+00+0.00000000e+00j, -1.22464680e-16+0.00000000e+00j,\n",
       "         0.00000000e+00+0.00000000e+00j,  0.00000000e+00+0.00000000e+00j,\n",
       "         0.00000000e+00+0.00000000e+00j,  0.00000000e+00+0.00000000e+00j,\n",
       "         0.00000000e+00+0.00000000e+00j,  0.00000000e+00+0.00000000e+00j,\n",
       "         0.00000000e+00+0.00000000e+00j,  0.00000000e+00+0.00000000e+00j,\n",
       "         0.00000000e+00+0.00000000e+00j,  2.80713500e+00-1.18881099e-12j],\n",
       "       [ 0.00000000e+00+0.00000000e+00j,  0.00000000e+00+0.00000000e+00j,\n",
       "         0.00000000e+00+0.00000000e+00j,  0.00000000e+00+0.00000000e+00j,\n",
       "        -1.22464680e-16+0.00000000e+00j,  0.00000000e+00+0.00000000e+00j,\n",
       "        -2.80712819e+00-1.17770650e-12j,  0.00000000e+00+0.00000000e+00j,\n",
       "         0.00000000e+00+0.00000000e+00j,  0.00000000e+00+0.00000000e+00j,\n",
       "         0.00000000e+00+0.00000000e+00j,  0.00000000e+00+0.00000000e+00j],\n",
       "       [ 0.00000000e+00+0.00000000e+00j,  0.00000000e+00+0.00000000e+00j,\n",
       "         0.00000000e+00+0.00000000e+00j, -1.22464680e-16+0.00000000e+00j,\n",
       "         0.00000000e+00+0.00000000e+00j, -1.22464680e-16+0.00000000e+00j,\n",
       "         0.00000000e+00+0.00000000e+00j,  0.00000000e+00+0.00000000e+00j,\n",
       "         0.00000000e+00+0.00000000e+00j,  0.00000000e+00+0.00000000e+00j,\n",
       "         0.00000000e+00+0.00000000e+00j,  0.00000000e+00+0.00000000e+00j],\n",
       "       [ 0.00000000e+00+0.00000000e+00j,  0.00000000e+00+0.00000000e+00j,\n",
       "         0.00000000e+00+0.00000000e+00j,  0.00000000e+00+0.00000000e+00j,\n",
       "        -1.22464680e-16+0.00000000e+00j,  0.00000000e+00+0.00000000e+00j,\n",
       "         0.00000000e+00+0.00000000e+00j,  0.00000000e+00+0.00000000e+00j,\n",
       "        -2.80713500e+00+1.18881099e-12j,  0.00000000e+00+0.00000000e+00j,\n",
       "         0.00000000e+00+0.00000000e+00j,  0.00000000e+00+0.00000000e+00j],\n",
       "       [ 0.00000000e+00+0.00000000e+00j,  0.00000000e+00+0.00000000e+00j,\n",
       "         0.00000000e+00+0.00000000e+00j, -2.80712819e+00+1.17770650e-12j,\n",
       "         0.00000000e+00+0.00000000e+00j,  0.00000000e+00+0.00000000e+00j,\n",
       "         0.00000000e+00+0.00000000e+00j,  1.22464680e-16+0.00000000e+00j,\n",
       "         0.00000000e+00+0.00000000e+00j,  0.00000000e+00+0.00000000e+00j,\n",
       "         0.00000000e+00+0.00000000e+00j,  0.00000000e+00+0.00000000e+00j],\n",
       "       [ 0.00000000e+00+0.00000000e+00j,  0.00000000e+00+0.00000000e+00j,\n",
       "         0.00000000e+00+0.00000000e+00j,  0.00000000e+00+0.00000000e+00j,\n",
       "         0.00000000e+00+0.00000000e+00j,  0.00000000e+00+0.00000000e+00j,\n",
       "         1.22464680e-16+0.00000000e+00j,  0.00000000e+00+0.00000000e+00j,\n",
       "         1.22464680e-16+0.00000000e+00j,  0.00000000e+00+0.00000000e+00j,\n",
       "         0.00000000e+00+0.00000000e+00j,  0.00000000e+00+0.00000000e+00j],\n",
       "       [ 0.00000000e+00+0.00000000e+00j,  0.00000000e+00+0.00000000e+00j,\n",
       "         0.00000000e+00+0.00000000e+00j,  0.00000000e+00+0.00000000e+00j,\n",
       "         0.00000000e+00+0.00000000e+00j, -2.80713500e+00-1.18881099e-12j,\n",
       "         0.00000000e+00+0.00000000e+00j,  1.22464680e-16+0.00000000e+00j,\n",
       "         0.00000000e+00+0.00000000e+00j,  0.00000000e+00+0.00000000e+00j,\n",
       "         0.00000000e+00+0.00000000e+00j,  0.00000000e+00+0.00000000e+00j],\n",
       "       [ 2.80712819e+00-1.17770650e-12j,  0.00000000e+00+0.00000000e+00j,\n",
       "         0.00000000e+00+0.00000000e+00j,  0.00000000e+00+0.00000000e+00j,\n",
       "         0.00000000e+00+0.00000000e+00j,  0.00000000e+00+0.00000000e+00j,\n",
       "         0.00000000e+00+0.00000000e+00j,  0.00000000e+00+0.00000000e+00j,\n",
       "         0.00000000e+00+0.00000000e+00j,  0.00000000e+00+0.00000000e+00j,\n",
       "         1.22464680e-16+0.00000000e+00j,  0.00000000e+00+0.00000000e+00j],\n",
       "       [ 0.00000000e+00+0.00000000e+00j, -0.00000000e+00+0.00000000e+00j,\n",
       "         0.00000000e+00+0.00000000e+00j,  0.00000000e+00+0.00000000e+00j,\n",
       "         0.00000000e+00+0.00000000e+00j,  0.00000000e+00+0.00000000e+00j,\n",
       "         0.00000000e+00+0.00000000e+00j,  0.00000000e+00+0.00000000e+00j,\n",
       "         0.00000000e+00+0.00000000e+00j,  1.22464680e-16+0.00000000e+00j,\n",
       "         0.00000000e+00+0.00000000e+00j,  1.22464680e-16+0.00000000e+00j],\n",
       "       [ 0.00000000e+00+0.00000000e+00j,  0.00000000e+00+0.00000000e+00j,\n",
       "         2.80713500e+00+1.18881099e-12j,  0.00000000e+00+0.00000000e+00j,\n",
       "         0.00000000e+00+0.00000000e+00j,  0.00000000e+00+0.00000000e+00j,\n",
       "         0.00000000e+00+0.00000000e+00j,  0.00000000e+00+0.00000000e+00j,\n",
       "         0.00000000e+00+0.00000000e+00j,  0.00000000e+00+0.00000000e+00j,\n",
       "         1.22464680e-16+0.00000000e+00j,  0.00000000e+00+0.00000000e+00j]])"
      ]
     },
     "execution_count": 1096,
     "metadata": {},
     "output_type": "execute_result"
    }
   ],
   "source": [
    "mM.Hk(np.pi, np.pi)"
   ]
  },
  {
   "cell_type": "code",
   "execution_count": null,
   "id": "b3896faf",
   "metadata": {},
   "outputs": [],
   "source": []
  },
  {
   "cell_type": "code",
   "execution_count": null,
   "id": "d89f800f",
   "metadata": {},
   "outputs": [],
   "source": []
  },
  {
   "cell_type": "code",
   "execution_count": null,
   "id": "a61d2570",
   "metadata": {},
   "outputs": [],
   "source": []
  },
  {
   "cell_type": "code",
   "execution_count": null,
   "id": "b87b72fc",
   "metadata": {},
   "outputs": [],
   "source": []
  },
  {
   "cell_type": "code",
   "execution_count": null,
   "id": "193b98f1",
   "metadata": {},
   "outputs": [],
   "source": []
  }
 ],
 "metadata": {
  "kernelspec": {
   "display_name": "base",
   "language": "python",
   "name": "python3"
  },
  "language_info": {
   "codemirror_mode": {
    "name": "ipython",
    "version": 3
   },
   "file_extension": ".py",
   "mimetype": "text/x-python",
   "name": "python",
   "nbconvert_exporter": "python",
   "pygments_lexer": "ipython3",
   "version": "3.12.3"
  }
 },
 "nbformat": 4,
 "nbformat_minor": 5
}
