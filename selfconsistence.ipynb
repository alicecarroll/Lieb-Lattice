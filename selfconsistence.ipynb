{
 "cells": [
  {
   "cell_type": "code",
   "execution_count": 17,
   "id": "97ebf211",
   "metadata": {},
   "outputs": [],
   "source": [
    "import numpy as np\n",
    "import matplotlib.pyplot as plt\n",
    "from importlib import reload\n",
    "import AHM\n",
    "reload(AHM)\n",
    "mM = AHM.Model(Del0A = 0.2, Del0B=0, Del0C= -0.2, U=0, t=0, inhomp=False, inhomi=True)\n",
    "\n",
    "H = mM.HBdG()\n"
   ]
  },
  {
   "cell_type": "code",
   "execution_count": 18,
   "id": "4470394d",
   "metadata": {},
   "outputs": [],
   "source": [
    "k = np.linspace(0, 2*np.pi, 100)\n",
    "\n",
    "k1 = np.ones(100)\n",
    "k0 = np.zeros(100)\n",
    "path = np.concatenate((k, k, k*np.sqrt(2)))\n",
    "kx = np.concatenate((k,np.pi*2*k1, k[::-1]))\n",
    "ky = np.concatenate((k0, k, k[::-1]))\n",
    "\n",
    "p = [i for i in range(np.shape(path)[0])]\n",
    "np.shape(p)\n",
    "energies = mM.solvHam(kx, ky)\n",
    "\n",
    "np.shape(energies)\n",
    "emax = np.amax(energies)\n",
    "emax = emax+0.1*emax"
   ]
  },
  {
   "cell_type": "code",
   "execution_count": 19,
   "id": "f6dc02a6",
   "metadata": {},
   "outputs": [
    {
     "data": {
      "image/png": "[encoded data removed]",
      "text/plain": [
       "<Figure size 800x600 with 1 Axes>"
      ]
     },
     "metadata": {},
     "output_type": "display_data"
    }
   ],
   "source": [
    "plt.figure(figsize=(8,6))\n",
    "plt.xlabel(\"$(k_x a,k_y a)$\", size='x-large')\n",
    "plt.ylabel(\"E\", size='x-large')\n",
    "plt.yticks(size='x-large')\n",
    "plt.xticks(ticks= [0, 100, 200, 299], labels=[r\"$\\Gamma$\",r\"X\",r\"M\", r\"$\\Gamma$\"], size='x-large')\n",
    "#plt.ylim((-0.5, 0.5))\n",
    "\n",
    "for i in energies:\n",
    "    plt.plot(p, i, color='black')\n",
    "#for i in energies2:\n",
    "#    plt.plot(p, i, color='green', linestyle='dashdot')\n",
    "#plt.plot(p, energies4[0], color='black', label=r'$\\Delta_0=0.5$')\n",
    "#plt.plot(p, energies2[0], color='green', linestyle='dashdot', label=r'$\\Delta_0=1$')\n",
    "\n",
    "plt.vlines([0, 99, 199, 299], [-emax, -emax, -emax, -emax], [emax, emax, emax, emax], colors= 'grey', linestyles='--')\n",
    "#plt.vlines(250, -2, 2)\n",
    "#plt.legend(fontsize='x-large')\n",
    "plt.savefig(\"Pictures/ESCpath.png\")\n",
    "plt.show()"
   ]
  },
  {
   "cell_type": "code",
   "execution_count": 65,
   "id": "57feaa8a",
   "metadata": {},
   "outputs": [
    {
     "name": "stderr",
     "output_type": "stream",
     "text": [
      "C:\\Users\\atsch\\AppData\\Local\\Temp\\ipykernel_12936\\3429684957.py:14: ComplexWarning: Casting complex values to real discards the imaginary part\n",
      "  sortedEVals[(l+1)*c:(l+1)*c+d+1]=t\n"
     ]
    }
   ],
   "source": [
    "evals = np.linalg.eig(H(k[0], k[0]))[0]\n",
    "sortedEVals = np.zeros(12)\n",
    "indexmap = np.zeros(12)\n",
    "c=0\n",
    "d =-1\n",
    "inbet = np.unique(evals)[::-1]\n",
    "l=np.shape(inbet)[0]\n",
    "for t in inbet:\n",
    "    for i, j in enumerate(evals):\n",
    "        if j == t:\n",
    "            d+=1\n",
    "            indexmap[(l+1)*c+d]=i\n",
    "                   \n",
    "    sortedEVals[(l+1)*c:(l+1)*c+d+1]=t\n",
    "    d=-1\n",
    "    c+=1\n",
    "\n"
   ]
  },
  {
   "cell_type": "code",
   "execution_count": 70,
   "id": "38fb2212",
   "metadata": {},
   "outputs": [
    {
     "data": {
      "text/plain": [
       "(12, 12)"
      ]
     },
     "execution_count": 70,
     "metadata": {},
     "output_type": "execute_result"
    }
   ],
   "source": [
    "np.shape(np.linalg.eig(H(k[0], k[0]))[1])"
   ]
  },
  {
   "cell_type": "code",
   "execution_count": 79,
   "id": "1c5e0226",
   "metadata": {},
   "outputs": [
    {
     "name": "stderr",
     "output_type": "stream",
     "text": [
      "C:\\Users\\atsch\\AppData\\Local\\Temp\\ipykernel_12936\\1876132664.py:4: ComplexWarning: Casting complex values to real discards the imaginary part\n",
      "  Uarr[i]=Evec[int(indexmap[i])]\n"
     ]
    }
   ],
   "source": [
    "Uarr = np.zeros((12,12))\n",
    "Evec = np.linalg.eig(H(k[0], k[0]))[1]\n",
    "for i in range(12):\n",
    "    Uarr[i]=Evec[int(indexmap[i])]"
   ]
  },
  {
   "cell_type": "code",
   "execution_count": 80,
   "id": "e6e4ea0d",
   "metadata": {},
   "outputs": [
    {
     "data": {
      "text/plain": [
       "array([[ 0.70710678, -0.70710678,  0.        ,  0.        ,  0.        ,\n",
       "         0.        ,  0.        ,  0.        ,  0.        ,  0.        ,\n",
       "         0.        ,  0.        ],\n",
       "       [-0.        , -0.        , -0.70710678,  0.70710678,  0.        ,\n",
       "         0.        ,  0.        ,  0.        ,  0.        ,  0.        ,\n",
       "         0.        ,  0.        ],\n",
       "       [-0.        , -0.        ,  0.        ,  0.        ,  0.        ,\n",
       "         0.        ,  0.        ,  0.        ,  0.        ,  1.        ,\n",
       "         0.        ,  0.        ],\n",
       "       [-0.        , -0.        ,  0.        ,  0.        ,  0.        ,\n",
       "         0.        , -0.70710678,  0.70710678,  0.        ,  0.        ,\n",
       "         0.        ,  0.        ],\n",
       "       [-0.        , -0.        ,  0.        ,  0.        ,  0.70710678,\n",
       "        -0.70710678,  0.        ,  0.        ,  0.        ,  0.        ,\n",
       "         0.        ,  0.        ],\n",
       "       [ 0.70710678,  0.70710678,  0.        ,  0.        ,  0.        ,\n",
       "         0.        ,  0.        ,  0.        ,  0.        ,  0.        ,\n",
       "         0.        ,  0.        ],\n",
       "       [-0.        , -0.        ,  0.        ,  0.        ,  0.        ,\n",
       "         0.        ,  0.        ,  0.        ,  0.        ,  0.        ,\n",
       "         0.        ,  1.        ],\n",
       "       [-0.        , -0.        ,  0.70710678,  0.70710678,  0.        ,\n",
       "         0.        ,  0.        ,  0.        ,  0.        ,  0.        ,\n",
       "         0.        ,  0.        ],\n",
       "       [-0.        , -0.        ,  0.        ,  0.        ,  0.        ,\n",
       "         0.        ,  0.        ,  0.        ,  1.        ,  0.        ,\n",
       "         0.        ,  0.        ],\n",
       "       [-0.        , -0.        ,  0.        ,  0.        ,  0.        ,\n",
       "         0.        ,  0.70710678,  0.70710678,  0.        ,  0.        ,\n",
       "         0.        ,  0.        ],\n",
       "       [-0.        , -0.        ,  0.        ,  0.        ,  0.70710678,\n",
       "         0.70710678,  0.        ,  0.        ,  0.        ,  0.        ,\n",
       "         0.        ,  0.        ],\n",
       "       [-0.        , -0.        ,  0.        ,  0.        ,  0.        ,\n",
       "         0.        ,  0.        ,  0.        ,  0.        ,  0.        ,\n",
       "         1.        ,  0.        ]])"
      ]
     },
     "execution_count": 80,
     "metadata": {},
     "output_type": "execute_result"
    }
   ],
   "source": [
    "Uarr"
   ]
  },
  {
   "cell_type": "code",
   "execution_count": null,
   "id": "580cf948",
   "metadata": {},
   "outputs": [],
   "source": []
  }
 ],
 "metadata": {
  "kernelspec": {
   "display_name": "base",
   "language": "python",
   "name": "python3"
  },
  "language_info": {
   "codemirror_mode": {
    "name": "ipython",
    "version": 3
   },
   "file_extension": ".py",
   "mimetype": "text/x-python",
   "name": "python",
   "nbconvert_exporter": "python",
   "pygments_lexer": "ipython3",
   "version": "3.12.3"
  }
 },
 "nbformat": 4,
 "nbformat_minor": 5
}
